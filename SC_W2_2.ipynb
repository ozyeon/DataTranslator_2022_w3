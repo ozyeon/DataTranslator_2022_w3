{
  "nbformat": 4,
  "nbformat_minor": 0,
  "metadata": {
    "colab": {
      "name": "SC_W2_2.ipynb",
      "provenance": [],
      "collapsed_sections": [],
      "include_colab_link": true
    },
    "kernelspec": {
      "name": "python3",
      "display_name": "Python 3"
    },
    "language_info": {
      "name": "python"
    }
  },
  "cells": [
    {
      "cell_type": "markdown",
      "metadata": {
        "id": "view-in-github",
        "colab_type": "text"
      },
      "source": [
        "<a href=\"https://colab.research.google.com/github/ozyeon/DataTranslator_2022_w3/blob/main/SC_W2_2.ipynb\" target=\"_parent\"><img src=\"https://colab.research.google.com/assets/colab-badge.svg\" alt=\"Open In Colab\"/></a>"
      ]
    },
    {
      "cell_type": "code",
      "source": [
        "import numpy as np\n",
        "import pandas as pd\n",
        "from sklearn.model_selection import train_test_split\n",
        "from sklearn.preprocessing import MinMaxScaler\n",
        "from sklearn.tree import DecisionTreeClassifier\n",
        "from sklearn.ensemble import RandomForestClassifier\n",
        "from sklearn import neighbors\n",
        "from sklearn.svm import SVC\n",
        "from sklearn.metrics import classification_report\n",
        "\n",
        "sms = pd.read_csv(\"sms.csv\")\n",
        "sms.info()\n",
        "sms.isnull().mean()\n",
        "\n",
        "scaled = MinMaxScaler().fit_transform(sms.drop(\"type\", axis=1))\n",
        "\n",
        "X_train, X_test, y_train, y_test = train_test_split(\n",
        "    scaled, sms.type, test_size = 0.2\n",
        ")\n",
        "\n",
        "model_dt = DecisionTreeClassifier().fit(X_train, y_train)\n",
        "print(\"model dt :\", model_dt.score(X_test, y_test))\n",
        "\n",
        "model_rf = RandomForestClassifier(n_estimators=100).fit(X_train, y_train)\n",
        "print(\"model rf :\", model_rf.score(X_test, y_test))\n",
        "\n",
        "model_knn = neighbors.KNeighborsClassifier().fit(X_train, y_train)\n",
        "print(\"model knn :\", model_knn.score(X_test, y_test))\n",
        "\n",
        "model_svm = SVC().fit(X_train, y_train)\n",
        "print(\"model svm :\", model_svm.score(X_test, y_test))\n",
        "\n",
        "print(\"\\n\", classification_report(model_dt.predict(X_test), y_test))\n",
        "print(\"\\n\", classification_report(model_rf.predict(X_test), y_test))\n",
        "print(\"\\n\", classification_report(model_knn.predict(X_test), y_test))\n",
        "print(\"\\n\", classification_report(model_svm.predict(X_test), y_test))"
      ],
      "metadata": {
        "colab": {
          "base_uri": "https://localhost:8080/"
        },
        "id": "v1_mOxfg7eEa",
        "outputId": "4133a4b7-494f-40cf-dd2e-81d5374765f0"
      },
      "execution_count": 10,
      "outputs": [
        {
          "output_type": "stream",
          "name": "stdout",
          "text": [
            "<class 'pandas.core.frame.DataFrame'>\n",
            "RangeIndex: 5574 entries, 0 to 5573\n",
            "Columns: 222 entries, type to wan\n",
            "dtypes: int64(222)\n",
            "memory usage: 9.4 MB\n",
            "model dt : 0.9336322869955157\n",
            "model rf : 0.9309417040358744\n",
            "model knn : 0.9013452914798207\n",
            "model svm : 0.9237668161434978\n",
            "\n",
            "               precision    recall  f1-score   support\n",
            "\n",
            "           0       0.98      0.94      0.96      1006\n",
            "           1       0.61      0.86      0.72       109\n",
            "\n",
            "    accuracy                           0.93      1115\n",
            "   macro avg       0.80      0.90      0.84      1115\n",
            "weighted avg       0.95      0.93      0.94      1115\n",
            "\n",
            "\n",
            "               precision    recall  f1-score   support\n",
            "\n",
            "           0       0.98      0.94      0.96      1003\n",
            "           1       0.61      0.84      0.71       112\n",
            "\n",
            "    accuracy                           0.93      1115\n",
            "   macro avg       0.80      0.89      0.84      1115\n",
            "weighted avg       0.94      0.93      0.94      1115\n",
            "\n",
            "\n",
            "               precision    recall  f1-score   support\n",
            "\n",
            "           0       0.99      0.90      0.95      1056\n",
            "           1       0.33      0.86      0.48        59\n",
            "\n",
            "    accuracy                           0.90      1115\n",
            "   macro avg       0.66      0.88      0.71      1115\n",
            "weighted avg       0.96      0.90      0.92      1115\n",
            "\n",
            "\n",
            "               precision    recall  f1-score   support\n",
            "\n",
            "           0       1.00      0.92      0.96      1039\n",
            "           1       0.47      0.95      0.63        76\n",
            "\n",
            "    accuracy                           0.92      1115\n",
            "   macro avg       0.73      0.93      0.79      1115\n",
            "weighted avg       0.96      0.92      0.94      1115\n",
            "\n"
          ]
        }
      ]
    },
    {
      "cell_type": "markdown",
      "source": [
        "위 상황에서의 문제점:\n",
        "1. 0이 많다\n",
        "2. 메모리를 너무 많이 잡아먹는다\n",
        "-> 해결방법\n",
        "  - encoding\n",
        "  - embedding(수치화)\n",
        "    - nn개의 변수\n",
        "    - nn개의 수치 좌표\n",
        "    - 0이 아닌 의미가 있는 숫자들로만의 표현"
      ],
      "metadata": {
        "id": "1qq2wx1VGy3F"
      }
    },
    {
      "cell_type": "markdown",
      "source": [
        "# 다양한 파라미터로 분류 모형 적용"
      ],
      "metadata": {
        "id": "P3LVcablCMws"
      }
    },
    {
      "cell_type": "markdown",
      "source": [
        "* 모형\n",
        "  - 파라미터\n",
        "  - 하이퍼 파라미터\n",
        "    - search -> grid search / random search\n",
        "\n",
        "* grid: 하나씩 모두 탐색함\n",
        "  - CV(Cross Validation): train / test 파티셔닝을 여러번 반복하며 성능 비교"
      ],
      "metadata": {
        "id": "aFEz_gzT371c"
      }
    },
    {
      "cell_type": "markdown",
      "source": [
        "- 필요 라이브러리 호출"
      ],
      "metadata": {
        "id": "0ufI1jKBG32A"
      }
    },
    {
      "cell_type": "code",
      "execution_count": 3,
      "metadata": {
        "id": "VJ1xB2X44CZm"
      },
      "outputs": [],
      "source": [
        "from sklearn.model_selection import train_test_split\n",
        "from sklearn import preprocessing, datasets\n",
        "\n",
        "from sklearn.naive_bayes import MultinomialNB\n",
        "from sklearn import tree\n",
        "from sklearn.ensemble import RandomForestClassifier\n",
        "from sklearn import neighbors\n",
        "from sklearn.svm import SVC\n",
        "\n",
        "from sklearn.model_selection import GridSearchCV    # 긴 시간이 걸릴 수 있음\n",
        "\n",
        "import re\n",
        "import numpy as np\n",
        "import pandas as pd\n"
      ]
    },
    {
      "cell_type": "code",
      "source": [
        "#MNIST 데이터셋\n",
        "from sklearn.datasets import load_digits\n",
        "from sklearn.cluster import KMeans\n",
        "import matplotlib.pyplot as plt\n",
        "import pandas as pd\n",
        "\n",
        "digits = load_digits()\n",
        "digits.data.shape\n",
        "X, y = digits.data, digits.target\n",
        "\n",
        "#시각화\n",
        "plt.imshow(digits.data[0,:].reshape(8,8), cmap=plt.cm.binary)\n",
        "plt.show()\n",
        "\n",
        "plt.imshow(digits.data[150,:].reshape(8,8), cmap=plt.cm.binary)\n",
        "plt.show()\n",
        "\n",
        "plt.imshow(digits.data[1000,:].reshape(8,8), cmap=plt.cm.binary)\n",
        "plt.show()"
      ],
      "metadata": {
        "colab": {
          "base_uri": "https://localhost:8080/",
          "height": 761
        },
        "id": "QiOSmuu6CZUb",
        "outputId": "e03cda2b-892e-4e47-f26a-25f557974ffc"
      },
      "execution_count": null,
      "outputs": [
        {
          "output_type": "display_data",
          "data": {
            "text/plain": [
              "<Figure size 432x288 with 1 Axes>"
            ],
            "image/png": "[encoded data removed]"
          },
          "metadata": {
            "needs_background": "light"
          }
        },
        {
          "output_type": "display_data",
          "data": {
            "text/plain": [
              "<Figure size 432x288 with 1 Axes>"
            ],
            "image/png": "[encoded data removed]"
          },
          "metadata": {
            "needs_background": "light"
          }
        },
        {
          "output_type": "display_data",
          "data": {
            "text/plain": [
              "<Figure size 432x288 with 1 Axes>"
            ],
            "image/png": "[encoded data removed]"
          },
          "metadata": {
            "needs_background": "light"
          }
        }
      ]
    },
    {
      "cell_type": "markdown",
      "source": [
        "- train.csv와 test.csv를 읽으셔서,  KNN, NB. DT, RF 적용해보세요.\n",
        "- 1열이 target, 2~785열이 X입니다."
      ],
      "metadata": {
        "id": "ogubkJglCiDX"
      }
    },
    {
      "cell_type": "code",
      "source": [
        "train_data = pd.read_csv('train.csv')\n",
        "test_data = pd.read_csv('test.csv')\n",
        "\n",
        "X_train = train_data.iloc[:, 1:785 ]\n",
        "y_train  = train_data.iloc[:, 0 ]\n",
        "\n",
        "X_test = test_data.iloc[:, 1:785 ]\n",
        "y_test  = test_data.iloc[:, 0 ]\n"
      ],
      "metadata": {
        "id": "bq4utAQbCQbO"
      },
      "execution_count": null,
      "outputs": []
    },
    {
      "cell_type": "code",
      "source": [
        "#적용\n",
        "#NB\n",
        "clf = MultinomialNB().fit(X_train, y_train)\n",
        "predicted = clf.predict(X_test)\n",
        "print('NB', np.mean(predicted == y_test))\n",
        "\n",
        "#DT\n",
        "dt1 = tree.DecisionTreeClassifier().fit(X_train, y_train)\n",
        "pred = dt1.predict( X_test)\n",
        "print('DT', np.mean( pred == y_test ))\n",
        "\n",
        "#RF\n",
        "rf = RandomForestClassifier(n_estimators=100, random_state=42).fit(X_train, y_train)\n",
        "predicted = rf.predict(X_test)\n",
        "print('RF', np.mean( predicted == y_test ))\n",
        "\n",
        "#KNN\n",
        "knn = neighbors.KNeighborsClassifier().fit(X_train, y_train)\n",
        "predicted = knn.predict(X_test)\n",
        "print('KNN', np.mean( predicted == y_test ))\n",
        "\n",
        "#SVM\n",
        "svm = SVC().fit(X_train, y_train)\n",
        "predicted = svm.predict(X_test)\n",
        "print('SVM', np.mean( predicted == y_test ))"
      ],
      "metadata": {
        "colab": {
          "base_uri": "https://localhost:8080/"
        },
        "id": "3jZYwb5xCTkL",
        "outputId": "cde1b1c9-0ed7-44fc-b52e-69421044e7d2"
      },
      "execution_count": null,
      "outputs": [
        {
          "output_type": "stream",
          "name": "stdout",
          "text": [
            "NB 0.813\n",
            "DT 0.775\n",
            "RF 0.94\n",
            "KNN 0.945\n",
            "SVM 0.961\n"
          ]
        }
      ]
    },
    {
      "cell_type": "markdown",
      "source": [
        "- Grid Search 적용"
      ],
      "metadata": {
        "id": "NY7TA2F1C0lb"
      }
    },
    {
      "cell_type": "code",
      "source": [
        "iris = datasets.load_iris()\n",
        "parameters = {'kernel':('linear', 'rbf'), 'C':[1, 10]}    # 다양한 파라미터 조합에서 최적의 성능 찾기\n",
        "svc = SVC()\n",
        "clf = GridSearchCV(svc, parameters)\n",
        "clf.fit(iris.data, iris.target)\n",
        "\n",
        "sorted(clf.cv_results_.keys())\n",
        "print(clf.best_score_)\n",
        "print(clf.best_params_,\"\\n\")\n",
        "\n",
        "#Grid Search for NB\n",
        "nb =MultinomialNB()\n",
        "nb.get_params().keys()\n",
        "\n",
        "parameters = {'alpha': (1e-2, 1e-3, 1e-4)}    # 다양한 파라미터 조합에서 최적의 성능 찾기\n",
        "\n",
        "gs_clf = GridSearchCV(nb, parameters, n_jobs=-1)\n",
        "gs_clf = gs_clf.fit(iris.data, iris.target)\n",
        "\n",
        "print(gs_clf.best_score_)\n",
        "print(gs_clf.best_params_)"
      ],
      "metadata": {
        "colab": {
          "base_uri": "https://localhost:8080/"
        },
        "id": "NUpyHGqjC3Lf",
        "outputId": "ab1969c6-45ed-4512-de83-e6d462f8c830"
      },
      "execution_count": 14,
      "outputs": [
        {
          "output_type": "stream",
          "name": "stdout",
          "text": [
            "0.9800000000000001\n",
            "{'C': 1, 'kernel': 'linear'} \n",
            "\n",
            "0.9533333333333334\n",
            "{'alpha': 0.01}\n"
          ]
        }
      ]
    },
    {
      "cell_type": "markdown",
      "source": [
        "- Validation Curve 이용"
      ],
      "metadata": {
        "id": "-BLKbSzwE5JD"
      }
    },
    {
      "cell_type": "code",
      "source": [
        "#Validation Curve\n",
        "from sklearn.model_selection import validation_curve\n",
        "\n",
        "param_range = np.logspace(-6, -1, 10)\n",
        "\n",
        "digits = load_digits()\n",
        "digits.data.shape\n",
        "X, y = digits.data, digits.target\n",
        "\n",
        "train_scores, test_scores = \\\n",
        "    validation_curve(SVC(), X, y, \n",
        "                     param_name=\"gamma\", param_range=param_range,\n",
        "                     cv=10, scoring=\"accuracy\", n_jobs=1)\n",
        "\n",
        "train_scores_mean = np.mean(train_scores, axis=1)\n",
        "train_scores_std = np.std(train_scores, axis=1)\n",
        "test_scores_mean = np.mean(test_scores, axis=1)\n",
        "test_scores_std = np.std(test_scores, axis=1)\n",
        "\n",
        "#결과 시각화\n",
        "import matplotlib.pyplot as plt\n",
        "plt.semilogx(param_range, train_scores_mean, label=\"Training score\", color=\"r\")\n",
        "plt.semilogx(param_range, test_scores_mean, label=\"Cross-validation score\", color=\"g\")\n",
        "plt.legend(loc=\"best\")\n",
        "plt.title(\"Validation Curve with SVM\")\n",
        "plt.xlabel(\"$\\gamma$\")\n",
        "plt.ylabel(\"Score\")\n",
        "plt.ylim(0.0, 1.1)\n",
        "plt.show()\n"
      ],
      "metadata": {
        "colab": {
          "base_uri": "https://localhost:8080/",
          "height": 301
        },
        "id": "N7wfpTraDBpZ",
        "outputId": "bbdb49f6-c016-49fa-ac83-e0beafb4130f"
      },
      "execution_count": null,
      "outputs": [
        {
          "output_type": "display_data",
          "data": {
            "text/plain": [
              "<Figure size 432x288 with 1 Axes>"
            ],
            "image/png": "[encoded data removed]"
          },
          "metadata": {
            "needs_background": "light"
          }
        }
      ]
    },
    {
      "cell_type": "markdown",
      "source": [
        "- Grid Search CV"
      ],
      "metadata": {
        "id": "1fK35GbWE-n_"
      }
    },
    {
      "cell_type": "code",
      "source": [
        "#grid search cv\n",
        "from sklearn.pipeline import Pipeline\n",
        "from sklearn.preprocessing import StandardScaler\n",
        "\n",
        "pipe_svc = Pipeline([('scl', StandardScaler()), ('clf', SVC(random_state=1))])\n",
        "\n",
        "param_range = [0.0001, 0.001, 0.01, 0.1, 1.0, 10.0, 100.0, 1000.0]\n",
        "param_grid = [\n",
        "    {'clf__C': param_range, 'clf__kernel': ['linear']},\n",
        "    {'clf__C': param_range, 'clf__gamma': param_range, 'clf__kernel': ['rbf']}]\n",
        "\n",
        "gs = GridSearchCV(estimator=pipe_svc, param_grid=param_grid, scoring='accuracy', cv=2, n_jobs=1)\n",
        "\n",
        "%time gs = gs.fit(X, y)\n",
        "gs.best_score_\n",
        "gs.best_params_\n",
        "gs.best_estimator_\n",
        "\n",
        "\n",
        "gs.cv_results_[\"mean_test_score\"]\n",
        "gs.cv_results_[\"params\"]\n",
        "\n",
        "print(gs.best_score_)\n",
        "print(gs.best_params_)\n",
        "#10분+ 소요\n"
      ],
      "metadata": {
        "id": "8686f7a9DSdn"
      },
      "execution_count": null,
      "outputs": []
    },
    {
      "cell_type": "markdown",
      "source": [
        "- Parameter Grid"
      ],
      "metadata": {
        "id": "mFLCUwB-FDFQ"
      }
    },
    {
      "cell_type": "code",
      "source": [
        "#parameter grid\n",
        "from sklearn.model_selection import ParameterGrid\n",
        "param_grid = {'a': [1, 2], 'b': [True, False]}\n",
        "list(ParameterGrid(param_grid))\n",
        "\n",
        "\n",
        "param_grid = [{'kernel': ['linear']}, {'kernel': ['rbf'], 'gamma': [1, 10]}]\n",
        "list(ParameterGrid(param_grid))\n",
        "\n",
        "#parallel processing\n",
        "param_grid = {\"gamma\": np.logspace(-6, -1, 10)}\n",
        "gs1 = GridSearchCV(estimator=SVC(), param_grid=param_grid, scoring='accuracy', cv=5, n_jobs=1)\n",
        "gs2 = GridSearchCV(estimator=SVC(), param_grid=param_grid, scoring='accuracy', cv=5, n_jobs=2)\n",
        "\n",
        "gs1.fit(X, y)\n",
        "gs2.fit(X, y)"
      ],
      "metadata": {
        "id": "Nl_M4VJSDaVM",
        "colab": {
          "base_uri": "https://localhost:8080/"
        },
        "outputId": "306ed273-e7ac-459f-e0b0-1f950c7e9b67"
      },
      "execution_count": null,
      "outputs": [
        {
          "output_type": "execute_result",
          "data": {
            "text/plain": [
              "GridSearchCV(cv=5, estimator=SVC(), n_jobs=2,\n",
              "             param_grid={'gamma': array([1.00000000e-06, 3.59381366e-06, 1.29154967e-05, 4.64158883e-05,\n",
              "       1.66810054e-04, 5.99484250e-04, 2.15443469e-03, 7.74263683e-03,\n",
              "       2.78255940e-02, 1.00000000e-01])},\n",
              "             scoring='accuracy')"
            ]
          },
          "metadata": {},
          "execution_count": 11
        }
      ]
    },
    {
      "cell_type": "markdown",
      "source": [
        "# ANN 이해"
      ],
      "metadata": {
        "id": "p2jPiuWoDuBd"
      }
    },
    {
      "cell_type": "markdown",
      "source": [
        "1. 은닉층 多 -> 변환 多\n",
        "2. 은닉층 內 노드의 수 -> 차원\n",
        "3. 은닉층 구조 + prarmeter -> search\n",
        "  * search\n",
        "    - random search: 가장 많이 쓰는 방법\n",
        "    - grid search: 별로 좋은 방법은 아님, 제한적임 => 안씀!\n",
        "\n",
        "* 값의 개수 -> 은닉층의 수\n",
        "* 각 값 -> 각 은닉층 노드의 수"
      ],
      "metadata": {
        "id": "3rKawk8K0ow8"
      }
    },
    {
      "cell_type": "code",
      "source": [
        "# Artificial Neural Network, 인공신경망\n",
        "from sklearn.neural_network import MLPClassifier\n",
        "\n",
        "X = [[0., 0.], [0., 1.], [1., 0.], [1., 1.]]\n",
        "y = [0, 0, 0, 1]\n",
        "\n",
        "clf = MLPClassifier(hidden_layer_sizes=(5, 2))\n",
        "clf.fit(X, y)\n",
        "clf.coefs_[0] #입력층과 은닉층 사이 가중치\n",
        "clf.coefs_[1] #은닉층1과 은닉층2사이 가중치\n",
        "\n",
        "result = clf.predict([[0, 0], [0, 1], \n",
        "                      [1, 0], [0, 1], \n",
        "                      [1, 1], [2., 2.],\n",
        "                      [1.3, 1.3], [2, 4.8]])\n",
        "\n",
        "prob_results = clf.predict_proba([[0, 0], [0, 1], \n",
        "                                  [1, 0], [0, 1], \n",
        "                                  [1, 1], [2., 2.], \n",
        "                                  [1.3, 1.3], [2, 4.8]])\n",
        "print(prob_results)\n",
        "result\n"
      ],
      "metadata": {
        "colab": {
          "base_uri": "https://localhost:8080/"
        },
        "id": "f-QIZ2lBDuKb",
        "outputId": "5fd37088-42a5-4032-97f5-c3e974c7c060"
      },
      "execution_count": null,
      "outputs": [
        {
          "output_type": "stream",
          "name": "stdout",
          "text": [
            "[[1.00000000e+000 5.25723951e-101]\n",
            " [1.00000000e+000 3.71534882e-031]\n",
            " [1.00000000e+000 6.47069178e-029]\n",
            " [1.00000000e+000 3.71534882e-031]\n",
            " [2.07145538e-004 9.99792854e-001]\n",
            " [2.07145538e-004 9.99792854e-001]\n",
            " [2.07145538e-004 9.99792854e-001]\n",
            " [2.07145538e-004 9.99792854e-001]]\n"
          ]
        },
        {
          "output_type": "execute_result",
          "data": {
            "text/plain": [
              "array([0, 0, 0, 0, 1, 1, 1, 1])"
            ]
          },
          "metadata": {},
          "execution_count": 19
        }
      ]
    },
    {
      "cell_type": "markdown",
      "source": [
        "* creditset.csv에 대해서 income, age, loan을 x변수 default10yr를 y\n",
        "* x변수는 scaled\n",
        "* 8:2로 파티셔닝\n",
        "* MLPClassifier로 피팅: hidden_layer_sizes는 (6:3)으로 지정\n",
        "* test셋으로 성능을 평가하세요\n",
        "* 은닉층 구조를 바꿔서 해보세요\n",
        "* svm과 비교해보세요"
      ],
      "metadata": {
        "id": "m6Bwo3sS7cj8"
      }
    },
    {
      "cell_type": "code",
      "source": [
        "import numpy as np\n",
        "import pandas as pd\n",
        "from sklearn.model_selection import train_test_split\n",
        "from sklearn.preprocessing import MinMaxScaler\n",
        "from sklearn.neural_network import MLPClassifier\n",
        "from sklearn.svm import SVC\n",
        "from sklearn.metrics import classification_report\n",
        "\n",
        "credit = pd.read_csv(\"creditset.csv\", index_col=0)\n",
        "scaled = MinMaxScaler().fit_transform(credit[[\"income\",\"age\",\"loan\"]])\n",
        "X_train, X_test, y_train, y_test = train_test_split(\n",
        "    scaled, credit.default10yr, test_size = 0.2\n",
        ")\n",
        "\n",
        "model_mlp = MLPClassifier(hidden_layer_sizes=(12,6,3)).fit(X_train, y_train)\n",
        "print(\"model mlp :\", model_mlp.score(X_test, y_test))\n",
        "\n",
        "model_svm = SVC().fit(X_train, y_train)\n",
        "print(\"model svm :\", model_svm.score(X_test, y_test))\n",
        "\n",
        "print(\"\\n\", classification_report(model_mlp.predict(X_test), y_test))\n",
        "print(\"\\n\", classification_report(model_svm.predict(X_test), y_test))"
      ],
      "metadata": {
        "colab": {
          "base_uri": "https://localhost:8080/"
        },
        "id": "wp2XcrlX7lFP",
        "outputId": "0cb1e02b-c20e-4e09-e117-f8495f7e9bc8"
      },
      "execution_count": 18,
      "outputs": [
        {
          "output_type": "stream",
          "name": "stdout",
          "text": [
            "model mlp : 0.98\n",
            "model svm : 0.985\n",
            "\n",
            "               precision    recall  f1-score   support\n",
            "\n",
            "           0       0.99      0.99      0.99       346\n",
            "           1       0.91      0.94      0.93        54\n",
            "\n",
            "    accuracy                           0.98       400\n",
            "   macro avg       0.95      0.96      0.96       400\n",
            "weighted avg       0.98      0.98      0.98       400\n",
            "\n",
            "\n",
            "               precision    recall  f1-score   support\n",
            "\n",
            "           0       0.99      0.99      0.99       344\n",
            "           1       0.95      0.95      0.95        56\n",
            "\n",
            "    accuracy                           0.98       400\n",
            "   macro avg       0.97      0.97      0.97       400\n",
            "weighted avg       0.98      0.98      0.98       400\n",
            "\n"
          ]
        },
        {
          "output_type": "stream",
          "name": "stderr",
          "text": [
            "/usr/local/lib/python3.7/dist-packages/sklearn/neural_network/_multilayer_perceptron.py:696: ConvergenceWarning: Stochastic Optimizer: Maximum iterations (200) reached and the optimization hasn't converged yet.\n",
            "  ConvergenceWarning,\n"
          ]
        }
      ]
    },
    {
      "cell_type": "code",
      "source": [
        "model_mlp.get_params()"
      ],
      "metadata": {
        "colab": {
          "base_uri": "https://localhost:8080/"
        },
        "id": "7KduhGD4_a9Z",
        "outputId": "831cd99f-9559-4c0e-fd4e-be9d1d66e8b3"
      },
      "execution_count": 20,
      "outputs": [
        {
          "output_type": "execute_result",
          "data": {
            "text/plain": [
              "{'activation': 'relu',\n",
              " 'alpha': 0.0001,\n",
              " 'batch_size': 'auto',\n",
              " 'beta_1': 0.9,\n",
              " 'beta_2': 0.999,\n",
              " 'early_stopping': False,\n",
              " 'epsilon': 1e-08,\n",
              " 'hidden_layer_sizes': (12, 6, 3),\n",
              " 'learning_rate': 'constant',\n",
              " 'learning_rate_init': 0.001,\n",
              " 'max_fun': 15000,\n",
              " 'max_iter': 200,\n",
              " 'momentum': 0.9,\n",
              " 'n_iter_no_change': 10,\n",
              " 'nesterovs_momentum': True,\n",
              " 'power_t': 0.5,\n",
              " 'random_state': None,\n",
              " 'shuffle': True,\n",
              " 'solver': 'adam',\n",
              " 'tol': 0.0001,\n",
              " 'validation_fraction': 0.1,\n",
              " 'verbose': False,\n",
              " 'warm_start': False}"
            ]
          },
          "metadata": {},
          "execution_count": 20
        }
      ]
    },
    {
      "cell_type": "code",
      "source": [
        "#creditset.csv에 적용\n",
        "csv_data = pd.read_csv(\"creditset.csv\")\n",
        "csv_data = csv_data.values\n",
        "csv_data.shape\n",
        "X = csv_data[:, 1:4 ]\n",
        "y  = csv_data[:, 5 ]\n",
        "\n",
        "#Partitioning\n",
        "X_train, X_test, y_train, y_test = train_test_split( X, y, test_size=0.3, random_state=42 )\n",
        "scaler = preprocessing.StandardScaler()\n",
        "X_train = scaler.fit_transform( X_train)\n",
        "X_test  = scaler.fit_transform( X_test  )\n",
        "\n"
      ],
      "metadata": {
        "id": "xDj5Rg3sFN_g"
      },
      "execution_count": 4,
      "outputs": []
    },
    {
      "cell_type": "code",
      "source": [
        "from sklearn.neural_network import MLPClassifier\n",
        "mlp = MLPClassifier(hidden_layer_sizes=(30,30,30))\n",
        "mlp.fit(X_train,y_train)\n",
        "predictions = mlp.predict(X_test)\n",
        "\n",
        "mlp.coefs_\n",
        "mlp.coefs_[0]\n",
        "mlp.intercepts_[0]\n",
        "\n",
        "np.mean( predictions == y_test )\n",
        "\n"
      ],
      "metadata": {
        "id": "S2fGpSK-C9mp"
      },
      "execution_count": null,
      "outputs": []
    },
    {
      "cell_type": "code",
      "source": [
        "from sklearn.metrics import classification_report,confusion_matrix\n",
        "confusion_matrix(y_test,predictions)\n",
        "classification_report(y_test,predictions)"
      ],
      "metadata": {
        "id": "DUtPqGTRC-zM"
      },
      "execution_count": null,
      "outputs": []
    },
    {
      "cell_type": "markdown",
      "source": [
        "- sms.csv에 대해서 MLPClassifier 적용해보세요."
      ],
      "metadata": {
        "id": "2XO5LNYhFPYV"
      }
    }
  ]
}