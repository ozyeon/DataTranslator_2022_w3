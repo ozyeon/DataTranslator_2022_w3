{
  "nbformat": 4,
  "nbformat_minor": 0,
  "metadata": {
    "colab": {
      "name": "SC_W3_1.ipynb",
      "provenance": [],
      "collapsed_sections": [],
      "include_colab_link": true
    },
    "kernelspec": {
      "name": "python3",
      "display_name": "Python 3"
    },
    "language_info": {
      "name": "python"
    }
  },
  "cells": [
    {
      "cell_type": "markdown",
      "metadata": {
        "id": "view-in-github",
        "colab_type": "text"
      },
      "source": [
        "<a href=\"https://colab.research.google.com/github/ozyeon/DataTranslator_2022_w3/blob/main/SC_W3_1.ipynb\" target=\"_parent\"><img src=\"https://colab.research.google.com/assets/colab-badge.svg\" alt=\"Open In Colab\"/></a>"
      ]
    },
    {
      "cell_type": "markdown",
      "source": [
        "# TensorFlow로 ANN 시작하기"
      ],
      "metadata": {
        "id": "-5tldUu0CFuG"
      }
    },
    {
      "cell_type": "markdown",
      "source": [
        "Tensorflow(구글)\n",
        "1. 은닉층 구조, 설정, fit -> predict 함수로 예측\n",
        "2. target 변수 -> OHE(One Hot Encoding) 필수\n",
        "  - OHE: 1과 0을 사용한 encoding\n",
        "3. 각 H(은닉층)마다 활성화함수 별도 지정 가능"
      ],
      "metadata": {
        "id": "hVimgoHPBBQB"
      }
    },
    {
      "cell_type": "code",
      "execution_count": 2,
      "metadata": {
        "id": "Fy87cJCLCC3z"
      },
      "outputs": [],
      "source": [
        "import numpy as np\n",
        "import tensorflow as tf\n",
        "import matplotlib.pyplot as plt\n",
        "\n",
        "from tensorflow.keras.models import Sequential\n",
        "from tensorflow.keras.layers import Dense\n",
        "from tensorflow.keras.optimizers import SGD \n",
        "from tensorflow.keras.losses import mse \n",
        "\n",
        "tf.random.set_seed(1234) #random seed 설정\n"
      ]
    },
    {
      "cell_type": "code",
      "source": [
        "# 연습용 데이터 \n",
        "x = np.array([[0,0],[1,0],[0,1],[1,1]])\n",
        "y = np.array([[0],[1],[1],[1]])"
      ],
      "metadata": {
        "id": "pqf9WWnNtKEP"
      },
      "execution_count": 3,
      "outputs": []
    },
    {
      "cell_type": "code",
      "source": [
        "# 인공신경망 모형 구성(퍼셉트론), 은닉층 2개 지정!\n",
        "model = Sequential()\n",
        "model.add(Dense(3, input_shape = (2, ), activation = 'linear')) # 노드가 3개인 은닉층 추가\n",
        "# ★★★ 첫번째 은닉층은 반드시 X(input) 변수의 수를 지정해줘야함, (2,) -> numpy array의 방식을 따름, 2개의 input\n",
        "model.add(Dense(1, activation = 'linear')) # 노드가 1개인 은닉층 추가\n",
        "\n",
        "#모형 컴파일\n",
        "model.compile(optimizer = 'SGD', loss = mse, metrics = ['acc']) #평가지표 설정\n",
        "\n",
        "#모형 학습 및 가중치 확인\n",
        "model.fit(x,y,epochs = 10)    # 에포크 지정(한 사이클 x 10회)\n",
        "model.get_weights()"
      ],
      "metadata": {
        "id": "hiVRaq7qtHzE",
        "colab": {
          "base_uri": "https://localhost:8080/"
        },
        "outputId": "28759534-51e9-4de9-ddc6-7aa3102197a8"
      },
      "execution_count": 4,
      "outputs": [
        {
          "output_type": "stream",
          "name": "stdout",
          "text": [
            "Epoch 1/10\n",
            "1/1 [==============================] - 1s 570ms/step - loss: 0.1483 - acc: 0.7500\n",
            "Epoch 2/10\n",
            "1/1 [==============================] - 0s 10ms/step - loss: 0.1407 - acc: 0.7500\n",
            "Epoch 3/10\n",
            "1/1 [==============================] - 0s 14ms/step - loss: 0.1340 - acc: 0.7500\n",
            "Epoch 4/10\n",
            "1/1 [==============================] - 0s 8ms/step - loss: 0.1281 - acc: 0.7500\n",
            "Epoch 5/10\n",
            "1/1 [==============================] - 0s 11ms/step - loss: 0.1229 - acc: 0.7500\n",
            "Epoch 6/10\n",
            "1/1 [==============================] - 0s 8ms/step - loss: 0.1182 - acc: 0.7500\n",
            "Epoch 7/10\n",
            "1/1 [==============================] - 0s 9ms/step - loss: 0.1141 - acc: 0.7500\n",
            "Epoch 8/10\n",
            "1/1 [==============================] - 0s 15ms/step - loss: 0.1104 - acc: 0.7500\n",
            "Epoch 9/10\n",
            "1/1 [==============================] - 0s 13ms/step - loss: 0.1072 - acc: 0.7500\n",
            "Epoch 10/10\n",
            "1/1 [==============================] - 0s 14ms/step - loss: 0.1043 - acc: 0.7500\n"
          ]
        },
        {
          "output_type": "execute_result",
          "data": {
            "text/plain": [
              "[array([[ 0.07079812, -0.32259127,  0.18962897],\n",
              "        [-0.56515676, -0.16073129,  0.8932773 ]], dtype=float32),\n",
              " array([-0.01693625, -0.03508848,  0.01456073], dtype=float32),\n",
              " array([[-0.4309294 ],\n",
              "        [-0.89604336],\n",
              "        [ 0.37639013]], dtype=float32),\n",
              " array([0.03943526], dtype=float32)]"
            ]
          },
          "metadata": {},
          "execution_count": 4
        }
      ]
    },
    {
      "cell_type": "code",
      "source": [
        "from sklearn.neural_network import MLPClassifier\n",
        "model = MLPClassifier( hidden_layer_sizes=(3,1) )\n",
        "model.fit( x,y)\n"
      ],
      "metadata": {
        "id": "XcSvd4W0yMPv"
      },
      "execution_count": null,
      "outputs": []
    },
    {
      "cell_type": "markdown",
      "source": [
        "- 위에 있는 예제를 변형하셔서\n",
        "- 은닉층 2개인 ANN을 만드세요.\n",
        "- 은닉층1: 노드3, \n",
        "- 은닉층2: 노드1"
      ],
      "metadata": {
        "id": "e9N_CIGawKG2"
      }
    },
    {
      "cell_type": "markdown",
      "source": [
        "- Activation Function: Sigmoid VS ReLU VS TanH VS Step"
      ],
      "metadata": {
        "id": "4-hj8CLnCHg-"
      }
    },
    {
      "cell_type": "code",
      "source": [
        "\n",
        "def sigmoid(z):\n",
        "    return 1 / (1 + np.exp(-z))\n",
        "\n",
        "def relu(z):\n",
        "    return np.maximum(0, z)\n",
        "\n",
        "#함수 미분\n",
        "def derivative(f, z, eps=0.000001):\n",
        "    return (f(z + eps) - f(z - eps))/(2 * eps)\n",
        "\n",
        "z = np.linspace(-5, 5, 200)\n",
        "\n",
        "plt.figure(figsize=(11,4))\n",
        "plt.subplot(121)\n",
        "plt.plot(z, sigmoid(z), \"r--\", linewidth=2, label=\"Sigmoid\")\n",
        "plt.plot(z, relu(z), \"b-.\", linewidth=2, label=\"ReLU\")\n",
        "plt.grid(True)\n",
        "plt.legend(loc=\"center right\", fontsize=10)\n",
        "plt.title(\"Activation func\")\n",
        "\n",
        "plt.subplot(122)\n",
        "#plt.plot(z, derivative(np.sign, z), \"r-\", linewidth=1, label=\"Step\")\n",
        "#plt.plot(0, 0, \"ro\", markersize=5)\n",
        "#plt.plot(0, 0, \"rx\", markersize=10)\n",
        "plt.plot(z, derivative(sigmoid, z), \"r--\", linewidth=2, label=\"Sigmoid\")\n",
        "plt.plot(z, derivative(relu, z), \"b-.\", linewidth=2, label=\"ReLU\")\n",
        "plt.grid(True)\n",
        "plt.title(\"Derivatives\")\n",
        "plt.show()\n"
      ],
      "metadata": {
        "colab": {
          "base_uri": "https://localhost:8080/",
          "height": 281
        },
        "id": "UcKsKypKCHnY",
        "outputId": "1211ecd0-ad5b-4d6a-dc36-3342fe096516"
      },
      "execution_count": null,
      "outputs": [
        {
          "output_type": "display_data",
          "data": {
            "text/plain": [
              "<Figure size 792x288 with 2 Axes>"
            ],
            "image/png": "[encoded data removed]"
          },
          "metadata": {
            "needs_background": "light"
          }
        }
      ]
    },
    {
      "cell_type": "markdown",
      "source": [
        "# 학습율"
      ],
      "metadata": {
        "id": "qOzSKDsNCHsq"
      }
    },
    {
      "cell_type": "code",
      "source": [
        "tf.random.set_seed(1234) \n",
        "\n",
        "# XOR gate를 나타낸 X, Y\n",
        "x = np.array([[0,0],[1,0],[0,1],[1,1]])\n",
        "y = np.array([[0],[1],[1],[0]])\n",
        "\n",
        "#모형 구성\n",
        "model = Sequential()\n",
        "model.add(Dense(32, input_shape = (2, ), activation = 'relu')) #node의 수 32\n",
        "model.add(Dense(1, activation='sigmoid'))\n",
        "model.summary()\n",
        "\n",
        "#모형 컴파일\n",
        "model.compile(optimizer = 'adam', loss = mse, metrics = ['acc'])\n",
        "\n",
        "#학습\n",
        "model.fit(x,y,epochs = 50)\n",
        "\n",
        "#학습율과 경사하강\n",
        "lr_list = [0.001, 0.01, 0.1, 0.55]\n",
        "\n",
        "def get_derivative(lr_list):\n",
        "  weight_prev = 2\n",
        "  derivative = [weight_prev]\n",
        "  y = [weight_prev ** 2] # 손실 함수 y = x^2\n",
        "  for i in range(1,10):\n",
        "    dev_value = weight_prev **2 #미분값\n",
        "    #weight update\n",
        "    weight_new = weight_prev - lr * dev_value\n",
        "    weight_prev = weight_new\n",
        "    derivative.append(weight_prev) #weight\n",
        "    y.append(weight_prev ** 2) #loss\n",
        "  return derivative, y\n",
        "\n",
        "x = np.linspace(-3,3,90) \n",
        "x_square = [i**2 for i in x]\n",
        "\n",
        "#결과 비교\n",
        "fig = plt.figure(figsize=(8, 4))\n",
        "\n",
        "for i,lr in enumerate(lr_list):\n",
        "  derivative, y = get_derivative(lr)\n",
        "  ax = fig.add_subplot(2, 2, i+1)\n",
        "  ax.scatter(derivative, y, color = 'blue')\n",
        "  ax.plot(x, x_square)\n",
        "  ax.title.set_text('lr = '+str(lr))\n",
        "\n",
        "plt.show()\n"
      ],
      "metadata": {
        "colab": {
          "base_uri": "https://localhost:8080/",
          "height": 1000
        },
        "id": "8u1nw5Y1CHz6",
        "outputId": "fad141a3-a92b-44f4-d975-511f15072ee1"
      },
      "execution_count": null,
      "outputs": [
        {
          "output_type": "stream",
          "name": "stdout",
          "text": [
            "Model: \"sequential_1\"\n",
            "_________________________________________________________________\n",
            " Layer (type)                Output Shape              Param #   \n",
            "=================================================================\n",
            " dense_1 (Dense)             (None, 32)                96        \n",
            "                                                                 \n",
            " dense_2 (Dense)             (None, 1)                 33        \n",
            "                                                                 \n",
            "=================================================================\n",
            "Total params: 129\n",
            "Trainable params: 129\n",
            "Non-trainable params: 0\n",
            "_________________________________________________________________\n",
            "Epoch 1/50\n",
            "1/1 [==============================] - 0s 436ms/step - loss: 0.2535 - acc: 0.7500\n",
            "Epoch 2/50\n",
            "1/1 [==============================] - 0s 12ms/step - loss: 0.2529 - acc: 0.5000\n",
            "Epoch 3/50\n",
            "1/1 [==============================] - 0s 11ms/step - loss: 0.2523 - acc: 0.7500\n",
            "Epoch 4/50\n",
            "1/1 [==============================] - 0s 16ms/step - loss: 0.2517 - acc: 0.7500\n",
            "Epoch 5/50\n",
            "1/1 [==============================] - 0s 10ms/step - loss: 0.2511 - acc: 0.7500\n",
            "Epoch 6/50\n",
            "1/1 [==============================] - 0s 9ms/step - loss: 0.2505 - acc: 0.7500\n",
            "Epoch 7/50\n",
            "1/1 [==============================] - 0s 11ms/step - loss: 0.2499 - acc: 0.7500\n",
            "Epoch 8/50\n",
            "1/1 [==============================] - 0s 8ms/step - loss: 0.2493 - acc: 0.7500\n",
            "Epoch 9/50\n",
            "1/1 [==============================] - 0s 7ms/step - loss: 0.2487 - acc: 0.7500\n",
            "Epoch 10/50\n",
            "1/1 [==============================] - 0s 7ms/step - loss: 0.2481 - acc: 0.7500\n",
            "Epoch 11/50\n",
            "1/1 [==============================] - 0s 7ms/step - loss: 0.2475 - acc: 0.7500\n",
            "Epoch 12/50\n",
            "1/1 [==============================] - 0s 13ms/step - loss: 0.2469 - acc: 0.7500\n",
            "Epoch 13/50\n",
            "1/1 [==============================] - 0s 18ms/step - loss: 0.2464 - acc: 0.7500\n",
            "Epoch 14/50\n",
            "1/1 [==============================] - 0s 13ms/step - loss: 0.2458 - acc: 0.7500\n",
            "Epoch 15/50\n",
            "1/1 [==============================] - 0s 17ms/step - loss: 0.2452 - acc: 0.7500\n",
            "Epoch 16/50\n",
            "1/1 [==============================] - 0s 15ms/step - loss: 0.2446 - acc: 0.7500\n",
            "Epoch 17/50\n",
            "1/1 [==============================] - 0s 16ms/step - loss: 0.2441 - acc: 0.7500\n",
            "Epoch 18/50\n",
            "1/1 [==============================] - 0s 11ms/step - loss: 0.2435 - acc: 0.7500\n",
            "Epoch 19/50\n",
            "1/1 [==============================] - 0s 19ms/step - loss: 0.2430 - acc: 0.7500\n",
            "Epoch 20/50\n",
            "1/1 [==============================] - 0s 26ms/step - loss: 0.2425 - acc: 0.7500\n",
            "Epoch 21/50\n",
            "1/1 [==============================] - 0s 44ms/step - loss: 0.2419 - acc: 0.7500\n",
            "Epoch 22/50\n",
            "1/1 [==============================] - 0s 15ms/step - loss: 0.2414 - acc: 0.7500\n",
            "Epoch 23/50\n",
            "1/1 [==============================] - 0s 35ms/step - loss: 0.2409 - acc: 0.7500\n",
            "Epoch 24/50\n",
            "1/1 [==============================] - 0s 14ms/step - loss: 0.2403 - acc: 0.7500\n",
            "Epoch 25/50\n",
            "1/1 [==============================] - 0s 21ms/step - loss: 0.2398 - acc: 0.7500\n",
            "Epoch 26/50\n",
            "1/1 [==============================] - 0s 23ms/step - loss: 0.2393 - acc: 0.7500\n",
            "Epoch 27/50\n",
            "1/1 [==============================] - 0s 19ms/step - loss: 0.2388 - acc: 0.7500\n",
            "Epoch 28/50\n",
            "1/1 [==============================] - 0s 8ms/step - loss: 0.2383 - acc: 0.7500\n",
            "Epoch 29/50\n",
            "1/1 [==============================] - 0s 10ms/step - loss: 0.2378 - acc: 0.7500\n",
            "Epoch 30/50\n",
            "1/1 [==============================] - 0s 11ms/step - loss: 0.2373 - acc: 0.7500\n",
            "Epoch 31/50\n",
            "1/1 [==============================] - 0s 8ms/step - loss: 0.2367 - acc: 0.7500\n",
            "Epoch 32/50\n",
            "1/1 [==============================] - 0s 10ms/step - loss: 0.2362 - acc: 0.7500\n",
            "Epoch 33/50\n",
            "1/1 [==============================] - 0s 8ms/step - loss: 0.2357 - acc: 0.7500\n",
            "Epoch 34/50\n",
            "1/1 [==============================] - 0s 8ms/step - loss: 0.2352 - acc: 0.7500\n",
            "Epoch 35/50\n",
            "1/1 [==============================] - 0s 9ms/step - loss: 0.2347 - acc: 0.7500\n",
            "Epoch 36/50\n",
            "1/1 [==============================] - 0s 8ms/step - loss: 0.2342 - acc: 0.7500\n",
            "Epoch 37/50\n",
            "1/1 [==============================] - 0s 8ms/step - loss: 0.2338 - acc: 0.7500\n",
            "Epoch 38/50\n",
            "1/1 [==============================] - 0s 7ms/step - loss: 0.2333 - acc: 0.7500\n",
            "Epoch 39/50\n",
            "1/1 [==============================] - 0s 17ms/step - loss: 0.2328 - acc: 0.7500\n",
            "Epoch 40/50\n",
            "1/1 [==============================] - 0s 12ms/step - loss: 0.2324 - acc: 0.7500\n",
            "Epoch 41/50\n",
            "1/1 [==============================] - 0s 12ms/step - loss: 0.2319 - acc: 0.7500\n",
            "Epoch 42/50\n",
            "1/1 [==============================] - 0s 18ms/step - loss: 0.2315 - acc: 0.7500\n",
            "Epoch 43/50\n",
            "1/1 [==============================] - 0s 10ms/step - loss: 0.2311 - acc: 0.7500\n",
            "Epoch 44/50\n",
            "1/1 [==============================] - 0s 7ms/step - loss: 0.2307 - acc: 0.7500\n",
            "Epoch 45/50\n",
            "1/1 [==============================] - 0s 7ms/step - loss: 0.2303 - acc: 0.7500\n",
            "Epoch 46/50\n",
            "1/1 [==============================] - 0s 8ms/step - loss: 0.2299 - acc: 0.7500\n",
            "Epoch 47/50\n",
            "1/1 [==============================] - 0s 8ms/step - loss: 0.2295 - acc: 0.7500\n",
            "Epoch 48/50\n",
            "1/1 [==============================] - 0s 17ms/step - loss: 0.2291 - acc: 0.7500\n",
            "Epoch 49/50\n",
            "1/1 [==============================] - 0s 13ms/step - loss: 0.2287 - acc: 0.7500\n",
            "Epoch 50/50\n",
            "1/1 [==============================] - 0s 8ms/step - loss: 0.2283 - acc: 0.7500\n"
          ]
        },
        {
          "output_type": "display_data",
          "data": {
            "text/plain": [
              "<Figure size 576x288 with 4 Axes>"
            ],
            "image/png": "[encoded data removed]"
          },
          "metadata": {
            "needs_background": "light"
          }
        }
      ]
    },
    {
      "cell_type": "markdown",
      "source": [
        "#연습 1: creditset.csv에 DNN 적용, MLPClassifier와 비교"
      ],
      "metadata": {
        "id": "r8jmB17tC-d2"
      }
    },
    {
      "cell_type": "code",
      "execution_count": 27,
      "metadata": {
        "id": "5jiwktasC2fs"
      },
      "outputs": [],
      "source": [
        "import pandas as pd\n",
        "import numpy as np\n",
        "from sklearn.model_selection import train_test_split\n",
        "from sklearn import preprocessing\n",
        "\n",
        "import tensorflow as tf\n",
        "from tensorflow.keras.models import Sequential\n",
        "from tensorflow.keras.layers import Dense\n",
        "from tensorflow.keras.optimizers import SGD \n",
        "from tensorflow.keras.losses import mse \n",
        "\n",
        "csv_data = pd.read_csv(\"creditset.csv\")\n",
        "X = csv_data.iloc[:, 1:4 ]  # csv_data[[\"age\",\"loan\",\"income\"]]과 동일한 기능\n",
        "y  = csv_data.iloc[:, 5 ]\n"
      ]
    },
    {
      "cell_type": "code",
      "source": [
        "#Partitioning\n",
        "X_train, X_test, y_train, y_test = train_test_split( X, y, test_size=0.3, random_state=42 )\n",
        "scaler = preprocessing.MinMaxScaler()\n",
        "X_train = scaler.fit_transform( X_train)\n",
        "X_test  = scaler.fit_transform( X_test  )"
      ],
      "metadata": {
        "id": "X8djrBQkUNEM"
      },
      "execution_count": 28,
      "outputs": []
    },
    {
      "cell_type": "code",
      "source": [
        "from sklearn.neural_network import MLPClassifier\n",
        "mlp = MLPClassifier(hidden_layer_sizes=(6,3))\n",
        "mlp.fit(X_train,y_train)\n",
        "mlp.score(X_test, y_test)\n",
        "predictions = mlp.predict(X_test)\n",
        "\n",
        "np.mean( predictions == y_test )"
      ],
      "metadata": {
        "colab": {
          "base_uri": "https://localhost:8080/"
        },
        "id": "tg1nrQGOU0wy",
        "outputId": "9b17ed9b-011e-4ca9-e3f1-7e5cbcc753b6"
      },
      "execution_count": 29,
      "outputs": [
        {
          "output_type": "stream",
          "name": "stderr",
          "text": [
            "/usr/local/lib/python3.7/dist-packages/sklearn/neural_network/_multilayer_perceptron.py:696: ConvergenceWarning: Stochastic Optimizer: Maximum iterations (200) reached and the optimization hasn't converged yet.\n",
            "  ConvergenceWarning,\n"
          ]
        },
        {
          "output_type": "execute_result",
          "data": {
            "text/plain": [
              "0.9283333333333333"
            ]
          },
          "metadata": {},
          "execution_count": 29
        }
      ]
    },
    {
      "cell_type": "code",
      "source": [
        "from sklearn.metrics import classification_report,confusion_matrix\n",
        "print( confusion_matrix(y_test,predictions) )\n",
        "print('\\n', classification_report(y_test,predictions) )"
      ],
      "metadata": {
        "colab": {
          "base_uri": "https://localhost:8080/"
        },
        "id": "fxrOjf7bT_Cs",
        "outputId": "5e9d2e5e-c078-44fc-c7f2-6213c7cfb353"
      },
      "execution_count": 30,
      "outputs": [
        {
          "output_type": "stream",
          "name": "stdout",
          "text": [
            "[[496  12]\n",
            " [ 31  61]]\n",
            "\n",
            "               precision    recall  f1-score   support\n",
            "\n",
            "           0       0.94      0.98      0.96       508\n",
            "           1       0.84      0.66      0.74        92\n",
            "\n",
            "    accuracy                           0.93       600\n",
            "   macro avg       0.89      0.82      0.85       600\n",
            "weighted avg       0.92      0.93      0.92       600\n",
            "\n"
          ]
        }
      ]
    },
    {
      "cell_type": "code",
      "source": [
        "#DNN\n",
        "from tensorflow.keras.utils import to_categorical   # OHE 수행하는 함수\n",
        "y_train = to_categorical(y_train)\n",
        "y_test = to_categorical(y_test)\n",
        "np.argmax(y_test, axis = -1)"
      ],
      "metadata": {
        "id": "y8YKNkdTV2L4",
        "colab": {
          "base_uri": "https://localhost:8080/"
        },
        "outputId": "9740cbde-d2fc-48d6-9f08-127ca7c89f4f"
      },
      "execution_count": 31,
      "outputs": [
        {
          "output_type": "execute_result",
          "data": {
            "text/plain": [
              "array([1, 1, 0, 0, 0, 0, 0, 1, 0, 0, 1, 1, 1, 0, 0, 1, 0, 0, 0, 0, 0, 0,\n",
              "       0, 0, 0, 1, 0, 0, 1, 0, 0, 0, 0, 0, 0, 0, 0, 1, 0, 0, 0, 0, 0, 1,\n",
              "       1, 0, 0, 1, 0, 0, 0, 0, 0, 0, 0, 0, 1, 0, 0, 1, 0, 0, 1, 0, 0, 0,\n",
              "       0, 1, 0, 0, 1, 0, 0, 0, 0, 0, 1, 0, 0, 0, 0, 0, 0, 0, 0, 1, 0, 0,\n",
              "       0, 0, 1, 0, 0, 0, 0, 0, 0, 0, 0, 0, 0, 0, 1, 0, 0, 0, 0, 0, 0, 1,\n",
              "       0, 0, 0, 0, 0, 0, 0, 0, 0, 0, 0, 0, 0, 0, 0, 0, 1, 0, 0, 0, 0, 0,\n",
              "       0, 0, 0, 1, 0, 0, 0, 0, 0, 1, 0, 0, 1, 0, 0, 0, 1, 0, 0, 0, 0, 0,\n",
              "       0, 0, 1, 0, 1, 1, 0, 0, 0, 0, 0, 1, 0, 1, 0, 0, 0, 1, 0, 0, 0, 1,\n",
              "       0, 0, 0, 0, 0, 0, 0, 0, 0, 1, 0, 0, 0, 1, 0, 0, 0, 0, 0, 0, 0, 0,\n",
              "       0, 0, 1, 0, 0, 0, 0, 0, 0, 0, 0, 0, 0, 0, 0, 0, 1, 0, 1, 0, 0, 0,\n",
              "       0, 0, 0, 0, 0, 0, 1, 0, 0, 0, 0, 0, 0, 0, 0, 0, 0, 0, 0, 0, 0, 0,\n",
              "       0, 1, 0, 0, 0, 0, 0, 0, 1, 1, 0, 0, 0, 0, 1, 0, 0, 0, 0, 0, 0, 0,\n",
              "       0, 0, 0, 0, 0, 0, 0, 1, 1, 0, 0, 0, 1, 0, 0, 0, 1, 0, 0, 0, 0, 0,\n",
              "       0, 0, 0, 0, 0, 0, 0, 0, 0, 0, 0, 0, 0, 1, 1, 0, 0, 1, 1, 0, 0, 0,\n",
              "       0, 0, 0, 0, 0, 0, 0, 0, 0, 0, 0, 0, 0, 1, 0, 0, 0, 0, 1, 0, 0, 0,\n",
              "       0, 1, 0, 0, 1, 0, 0, 1, 0, 0, 0, 0, 1, 0, 0, 0, 0, 0, 0, 0, 0, 1,\n",
              "       0, 1, 0, 0, 0, 0, 0, 0, 0, 0, 0, 0, 0, 0, 0, 0, 0, 0, 0, 0, 1, 0,\n",
              "       0, 0, 1, 0, 0, 1, 0, 1, 0, 0, 0, 0, 1, 0, 0, 0, 0, 0, 0, 0, 1, 1,\n",
              "       0, 1, 0, 1, 0, 0, 0, 0, 0, 0, 0, 0, 0, 0, 0, 0, 1, 0, 1, 0, 0, 0,\n",
              "       0, 0, 0, 0, 0, 0, 0, 0, 0, 0, 0, 0, 0, 0, 0, 0, 0, 0, 0, 0, 0, 0,\n",
              "       0, 0, 1, 0, 0, 0, 0, 0, 0, 0, 0, 0, 0, 0, 0, 0, 0, 0, 0, 0, 0, 0,\n",
              "       0, 0, 0, 1, 1, 0, 1, 0, 0, 0, 0, 0, 0, 0, 0, 1, 1, 0, 0, 0, 0, 0,\n",
              "       0, 0, 0, 0, 0, 0, 0, 0, 0, 0, 0, 0, 0, 0, 0, 0, 0, 0, 0, 0, 0, 0,\n",
              "       0, 0, 1, 0, 0, 0, 0, 0, 0, 0, 0, 0, 0, 0, 0, 0, 0, 0, 0, 0, 0, 0,\n",
              "       0, 0, 0, 0, 0, 0, 0, 0, 1, 0, 0, 0, 0, 0, 0, 0, 1, 1, 0, 0, 0, 0,\n",
              "       0, 1, 0, 0, 0, 1, 0, 0, 0, 0, 0, 0, 0, 0, 0, 0, 0, 0, 0, 1, 0, 1,\n",
              "       0, 0, 0, 1, 0, 0, 1, 1, 0, 1, 0, 0, 0, 1, 0, 0, 0, 0, 0, 0, 0, 0,\n",
              "       0, 0, 1, 0, 0, 0])"
            ]
          },
          "metadata": {},
          "execution_count": 31
        }
      ]
    },
    {
      "cell_type": "code",
      "source": [
        "#모형 구성\n",
        "from tensorflow.keras.models import Sequential\n",
        "from tensorflow.keras.layers import Dense\n",
        "model = Sequential()\n",
        "model.add(Dense(6, activation = 'relu', input_shape = (3, ) ) ) # 은닉층1-입력:3, 출력 6를 표시\n",
        "model.add(Dense(3, activation = 'relu' ) ) # 은닉층2-입력:6, 출력 3를 표시\n",
        "model.add(Dense(2, activation = 'softmax'))  # 은닉층3-출력:2를 표시, 마지막 layer를 softmax로 설정함\n",
        "\n",
        "model.compile(optimizer = 'adam', loss = 'categorical_crossentropy', metrics = ['acc'])  # 모형 컴파일\n",
        "\n",
        "# 학습, 로그는 할당시켜서 기억할 수 있음\n",
        "history = model.fit(X_train, y_train, epochs = 20, batch_size = 100, validation_split = 0.1)\n",
        "# batch size에 따라서 속도가 달라짐, batch size가 작을수록 속도가 오래 걸림..\n",
        "# train set을 두개로 나누어 매 epoch마다 train set을 평가함\n",
        "history.history.keys()\n"
      ],
      "metadata": {
        "id": "JEd0fE1dDvpG",
        "colab": {
          "base_uri": "https://localhost:8080/"
        },
        "outputId": "6c94acbc-d86d-483a-a301-f4f160024e3f"
      },
      "execution_count": 32,
      "outputs": [
        {
          "output_type": "stream",
          "name": "stdout",
          "text": [
            "Epoch 1/20\n",
            "13/13 [==============================] - 1s 15ms/step - loss: 0.7171 - acc: 0.2984 - val_loss: 0.7064 - val_acc: 0.3571\n",
            "Epoch 2/20\n",
            "13/13 [==============================] - 0s 5ms/step - loss: 0.7001 - acc: 0.3913 - val_loss: 0.6930 - val_acc: 0.4714\n",
            "Epoch 3/20\n",
            "13/13 [==============================] - 0s 4ms/step - loss: 0.6852 - acc: 0.6405 - val_loss: 0.6809 - val_acc: 0.7714\n",
            "Epoch 4/20\n",
            "13/13 [==============================] - 0s 4ms/step - loss: 0.6719 - acc: 0.8579 - val_loss: 0.6701 - val_acc: 0.8214\n",
            "Epoch 5/20\n",
            "13/13 [==============================] - 0s 5ms/step - loss: 0.6601 - acc: 0.8683 - val_loss: 0.6605 - val_acc: 0.8214\n",
            "Epoch 6/20\n",
            "13/13 [==============================] - 0s 4ms/step - loss: 0.6496 - acc: 0.8683 - val_loss: 0.6518 - val_acc: 0.8214\n",
            "Epoch 7/20\n",
            "13/13 [==============================] - 0s 4ms/step - loss: 0.6400 - acc: 0.8683 - val_loss: 0.6438 - val_acc: 0.8214\n",
            "Epoch 8/20\n",
            "13/13 [==============================] - 0s 4ms/step - loss: 0.6311 - acc: 0.8683 - val_loss: 0.6364 - val_acc: 0.8214\n",
            "Epoch 9/20\n",
            "13/13 [==============================] - 0s 4ms/step - loss: 0.6228 - acc: 0.8683 - val_loss: 0.6294 - val_acc: 0.8214\n",
            "Epoch 10/20\n",
            "13/13 [==============================] - 0s 4ms/step - loss: 0.6148 - acc: 0.8683 - val_loss: 0.6228 - val_acc: 0.8214\n",
            "Epoch 11/20\n",
            "13/13 [==============================] - 0s 4ms/step - loss: 0.6073 - acc: 0.8683 - val_loss: 0.6165 - val_acc: 0.8214\n",
            "Epoch 12/20\n",
            "13/13 [==============================] - 0s 4ms/step - loss: 0.6001 - acc: 0.8683 - val_loss: 0.6103 - val_acc: 0.8214\n",
            "Epoch 13/20\n",
            "13/13 [==============================] - 0s 4ms/step - loss: 0.5930 - acc: 0.8683 - val_loss: 0.6045 - val_acc: 0.8214\n",
            "Epoch 14/20\n",
            "13/13 [==============================] - 0s 5ms/step - loss: 0.5863 - acc: 0.8683 - val_loss: 0.5989 - val_acc: 0.8214\n",
            "Epoch 15/20\n",
            "13/13 [==============================] - 0s 4ms/step - loss: 0.5797 - acc: 0.8683 - val_loss: 0.5935 - val_acc: 0.8214\n",
            "Epoch 16/20\n",
            "13/13 [==============================] - 0s 4ms/step - loss: 0.5734 - acc: 0.8683 - val_loss: 0.5883 - val_acc: 0.8214\n",
            "Epoch 17/20\n",
            "13/13 [==============================] - 0s 4ms/step - loss: 0.5673 - acc: 0.8683 - val_loss: 0.5833 - val_acc: 0.8214\n",
            "Epoch 18/20\n",
            "13/13 [==============================] - 0s 4ms/step - loss: 0.5613 - acc: 0.8683 - val_loss: 0.5783 - val_acc: 0.8214\n",
            "Epoch 19/20\n",
            "13/13 [==============================] - 0s 4ms/step - loss: 0.5555 - acc: 0.8683 - val_loss: 0.5736 - val_acc: 0.8214\n",
            "Epoch 20/20\n",
            "13/13 [==============================] - 0s 6ms/step - loss: 0.5499 - acc: 0.8683 - val_loss: 0.5691 - val_acc: 0.8214\n"
          ]
        },
        {
          "output_type": "execute_result",
          "data": {
            "text/plain": [
              "dict_keys(['loss', 'acc', 'val_loss', 'val_acc'])"
            ]
          },
          "metadata": {},
          "execution_count": 32
        }
      ]
    },
    {
      "cell_type": "code",
      "source": [
        "# 모형 평가-train, test\n",
        "model.evaluate(X_test, y_test)\n",
        "results = model.predict(X_test)\n",
        "np.argmax(results, axis=-1)"
      ],
      "metadata": {
        "colab": {
          "base_uri": "https://localhost:8080/"
        },
        "id": "m0akasVHPl9o",
        "outputId": "1c7772b4-6f5d-48c9-b9d7-dfa708aceb67"
      },
      "execution_count": 34,
      "outputs": [
        {
          "output_type": "stream",
          "name": "stdout",
          "text": [
            "19/19 [==============================] - 0s 4ms/step - loss: 0.5570 - acc: 0.8467\n"
          ]
        },
        {
          "output_type": "execute_result",
          "data": {
            "text/plain": [
              "array([0, 0, 0, 0, 0, 0, 0, 0, 0, 0, 0, 0, 0, 0, 0, 0, 0, 0, 0, 0, 0, 0,\n",
              "       0, 0, 0, 0, 0, 0, 0, 0, 0, 0, 0, 0, 0, 0, 0, 0, 0, 0, 0, 0, 0, 0,\n",
              "       0, 0, 0, 0, 0, 0, 0, 0, 0, 0, 0, 0, 0, 0, 0, 0, 0, 0, 0, 0, 0, 0,\n",
              "       0, 0, 0, 0, 0, 0, 0, 0, 0, 0, 0, 0, 0, 0, 0, 0, 0, 0, 0, 0, 0, 0,\n",
              "       0, 0, 0, 0, 0, 0, 0, 0, 0, 0, 0, 0, 0, 0, 0, 0, 0, 0, 0, 0, 0, 0,\n",
              "       0, 0, 0, 0, 0, 0, 0, 0, 0, 0, 0, 0, 0, 0, 0, 0, 0, 0, 0, 0, 0, 0,\n",
              "       0, 0, 0, 0, 0, 0, 0, 0, 0, 0, 0, 0, 0, 0, 0, 0, 0, 0, 0, 0, 0, 0,\n",
              "       0, 0, 0, 0, 0, 0, 0, 0, 0, 0, 0, 0, 0, 0, 0, 0, 0, 0, 0, 0, 0, 0,\n",
              "       0, 0, 0, 0, 0, 0, 0, 0, 0, 0, 0, 0, 0, 0, 0, 0, 0, 0, 0, 0, 0, 0,\n",
              "       0, 0, 0, 0, 0, 0, 0, 0, 0, 0, 0, 0, 0, 0, 0, 0, 0, 0, 0, 0, 0, 0,\n",
              "       0, 0, 0, 0, 0, 0, 0, 0, 0, 0, 0, 0, 0, 0, 0, 0, 0, 0, 0, 0, 0, 0,\n",
              "       0, 0, 0, 0, 0, 0, 0, 0, 0, 0, 0, 0, 0, 0, 0, 0, 0, 0, 0, 0, 0, 0,\n",
              "       0, 0, 0, 0, 0, 0, 0, 0, 0, 0, 0, 0, 0, 0, 0, 0, 0, 0, 0, 0, 0, 0,\n",
              "       0, 0, 0, 0, 0, 0, 0, 0, 0, 0, 0, 0, 0, 0, 0, 0, 0, 0, 0, 0, 0, 0,\n",
              "       0, 0, 0, 0, 0, 0, 0, 0, 0, 0, 0, 0, 0, 0, 0, 0, 0, 0, 0, 0, 0, 0,\n",
              "       0, 0, 0, 0, 0, 0, 0, 0, 0, 0, 0, 0, 0, 0, 0, 0, 0, 0, 0, 0, 0, 0,\n",
              "       0, 0, 0, 0, 0, 0, 0, 0, 0, 0, 0, 0, 0, 0, 0, 0, 0, 0, 0, 0, 0, 0,\n",
              "       0, 0, 0, 0, 0, 0, 0, 0, 0, 0, 0, 0, 0, 0, 0, 0, 0, 0, 0, 0, 0, 0,\n",
              "       0, 0, 0, 0, 0, 0, 0, 0, 0, 0, 0, 0, 0, 0, 0, 0, 0, 0, 0, 0, 0, 0,\n",
              "       0, 0, 0, 0, 0, 0, 0, 0, 0, 0, 0, 0, 0, 0, 0, 0, 0, 0, 0, 0, 0, 0,\n",
              "       0, 0, 0, 0, 0, 0, 0, 0, 0, 0, 0, 0, 0, 0, 0, 0, 0, 0, 0, 0, 0, 0,\n",
              "       0, 0, 0, 0, 0, 0, 0, 0, 0, 0, 0, 0, 0, 0, 0, 0, 0, 0, 0, 0, 0, 0,\n",
              "       0, 0, 0, 0, 0, 0, 0, 0, 0, 0, 0, 0, 0, 0, 0, 0, 0, 0, 0, 0, 0, 0,\n",
              "       0, 0, 0, 0, 0, 0, 0, 0, 0, 0, 0, 0, 0, 0, 0, 0, 0, 0, 0, 0, 0, 0,\n",
              "       0, 0, 0, 0, 0, 0, 0, 0, 0, 0, 0, 0, 0, 0, 0, 0, 0, 0, 0, 0, 0, 0,\n",
              "       0, 0, 0, 0, 0, 0, 0, 0, 0, 0, 0, 0, 0, 0, 0, 0, 0, 0, 0, 0, 0, 0,\n",
              "       0, 0, 0, 0, 0, 0, 0, 0, 0, 0, 0, 0, 0, 0, 0, 0, 0, 0, 0, 0, 0, 0,\n",
              "       0, 0, 0, 0, 0, 0])"
            ]
          },
          "metadata": {},
          "execution_count": 34
        }
      ]
    },
    {
      "cell_type": "code",
      "source": [
        "#confusion matrix: skleanr.metrics의 기능\n",
        "from sklearn.metrics import classification_report, confusion_matrix\n",
        "print('\\n', classification_report(np.argmax(y_test, axis = -1), np.argmax(results, axis = -1)))"
      ],
      "metadata": {
        "id": "63j-dVrHXAPg",
        "colab": {
          "base_uri": "https://localhost:8080/"
        },
        "outputId": "e52ac6f0-e857-4276-a7b9-f167c40588e8"
      },
      "execution_count": 35,
      "outputs": [
        {
          "output_type": "stream",
          "name": "stdout",
          "text": [
            "\n",
            "               precision    recall  f1-score   support\n",
            "\n",
            "           0       0.85      1.00      0.92       508\n",
            "           1       0.00      0.00      0.00        92\n",
            "\n",
            "    accuracy                           0.85       600\n",
            "   macro avg       0.42      0.50      0.46       600\n",
            "weighted avg       0.72      0.85      0.78       600\n",
            "\n"
          ]
        },
        {
          "output_type": "stream",
          "name": "stderr",
          "text": [
            "/usr/local/lib/python3.7/dist-packages/sklearn/metrics/_classification.py:1318: UndefinedMetricWarning: Precision and F-score are ill-defined and being set to 0.0 in labels with no predicted samples. Use `zero_division` parameter to control this behavior.\n",
            "  _warn_prf(average, modifier, msg_start, len(result))\n",
            "/usr/local/lib/python3.7/dist-packages/sklearn/metrics/_classification.py:1318: UndefinedMetricWarning: Precision and F-score are ill-defined and being set to 0.0 in labels with no predicted samples. Use `zero_division` parameter to control this behavior.\n",
            "  _warn_prf(average, modifier, msg_start, len(result))\n",
            "/usr/local/lib/python3.7/dist-packages/sklearn/metrics/_classification.py:1318: UndefinedMetricWarning: Precision and F-score are ill-defined and being set to 0.0 in labels with no predicted samples. Use `zero_division` parameter to control this behavior.\n",
            "  _warn_prf(average, modifier, msg_start, len(result))\n"
          ]
        }
      ]
    },
    {
      "cell_type": "code",
      "source": [
        "import pandas as pd\n",
        "import numpy as np\n",
        "from sklearn.model_selection import train_test_split\n",
        "from sklearn.preprocessing import MinMaxScaler\n",
        "from sklearn import preprocessing\n",
        "\n",
        "import tensorflow as tf\n",
        "from tensorflow.keras.models import Sequential\n",
        "from tensorflow.keras.layers import Dense\n",
        "from tensorflow.keras.optimizers import SGD \n",
        "from tensorflow.keras.losses import mse \n",
        "\n",
        "binary = pd.read_csv(\"binary.csv\")\n",
        "scaled = MinMaxScaler().fit_transform(binary.drop(\"admit\", axis=1))\n",
        "X_train, X_test, y_train, y_test = train_test_split(\n",
        "    scaled, binary.admit, test_size = 0.2\n",
        ")\n",
        "\n",
        "from tensorflow.keras.utils import to_categorical   # OHE 수행하는 함수\n",
        "y_train = to_categorical(y_train)\n",
        "y_test = to_categorical(y_test)\n",
        "np.argmax(y_test, axis = -1)\n",
        "\n",
        "from sklearn.metrics import classification_report, confusion_matrix\n",
        "print('\\n', classification_report(np.argmax(y_test, axis = -1), np.argmax(results, axis = -1)))"
      ],
      "metadata": {
        "colab": {
          "base_uri": "https://localhost:8080/"
        },
        "id": "KGNpALCeRN1s",
        "outputId": "aa5ae531-dc22-40e6-e8cd-4ddad5d8807b"
      },
      "execution_count": 39,
      "outputs": [
        {
          "output_type": "execute_result",
          "data": {
            "text/plain": [
              "array([1, 0, 0, 0, 0, 0, 0, 0, 1, 1, 0, 1, 1, 0, 1, 1, 0, 0, 1, 0, 0, 1,\n",
              "       1, 1, 0, 0, 0, 0, 1, 1, 0, 0, 0, 0, 1, 0, 1, 0, 0, 0, 1, 0, 0, 1,\n",
              "       0, 0, 0, 0, 0, 1, 0, 0, 1, 0, 1, 1, 0, 0, 0, 0, 1, 1, 0, 0, 0, 1,\n",
              "       1, 1, 0, 0, 0, 0, 0, 0, 0, 0, 1, 1, 0, 1])"
            ]
          },
          "metadata": {},
          "execution_count": 39
        }
      ]
    },
    {
      "cell_type": "markdown",
      "source": [
        "- creditset.csv 에 대해서 tensorflow로 ANN모델링하세요.\n",
        "- 000000000 성능을 개선해보세요~\n",
        "- 4:25까지 해보세요"
      ],
      "metadata": {
        "id": "P0Bg-4CIXm9P"
      }
    },
    {
      "cell_type": "markdown",
      "source": [
        "#연습 2: 반도체 제조 data.csv에 DNN 적용, ML과 비교"
      ],
      "metadata": {
        "id": "7WUcx7FXC_Qa"
      }
    },
    {
      "cell_type": "markdown",
      "source": [
        "- sklearn"
      ],
      "metadata": {
        "id": "of1H_iRlDQtD"
      }
    },
    {
      "cell_type": "code",
      "source": [
        "import pandas as pd\n",
        "import numpy as np\n",
        "csv_data = pd.read_csv(\"data.csv\")\n",
        "csv_data.shape"
      ],
      "metadata": {
        "colab": {
          "base_uri": "https://localhost:8080/"
        },
        "id": "HcH60gDzbV28",
        "outputId": "c3ece343-87a8-478a-953a-236953ad6607"
      },
      "execution_count": 41,
      "outputs": [
        {
          "output_type": "execute_result",
          "data": {
            "text/plain": [
              "(1567, 49)"
            ]
          },
          "metadata": {},
          "execution_count": 41
        }
      ]
    },
    {
      "cell_type": "code",
      "source": [
        "from sklearn.model_selection import train_test_split\n",
        "from sklearn import preprocessing\n",
        "\n",
        "X = csv_data.iloc[:, 0:48 ]   #모든행, 1열~48열까지\n",
        "y = csv_data.iloc[:, 48 ]    #모든 행, 49열 인덱싱\n",
        "\n",
        "#Partitioning\n",
        "X_train, X_test, y_train, y_test = train_test_split( X, y, test_size=0.3, random_state=42 )\n",
        "scaler = preprocessing.MinMaxScaler()\n",
        "X_train = scaler.fit_transform( X_train)\n",
        "X_test  = scaler.fit_transform( X_test  )"
      ],
      "metadata": {
        "id": "hkMloSOxbwBO"
      },
      "execution_count": 42,
      "outputs": []
    },
    {
      "cell_type": "code",
      "source": [
        "from sklearn.naive_bayes import MultinomialNB\n",
        "from sklearn.tree import DecisionTreeClassifier\n",
        "from sklearn.ensemble import RandomForestClassifier\n",
        "from sklearn.neighbors import KNeighborsClassifier\n",
        "from sklearn.svm import SVC\n",
        "from sklearn.neural_network import MLPClassifier\n",
        "\n",
        "#NB\n",
        "clf = MultinomialNB().fit(X_train, y_train)\n",
        "predicted = clf.predict(X_test)\n",
        "print('NB', np.mean(predicted == y_test))\n",
        "\n",
        "#DT\n",
        "dt1 = DecisionTreeClassifier().fit(X_train, y_train)\n",
        "pred = dt1.predict( X_test)\n",
        "print('DT', np.mean( pred == y_test ))\n",
        "\n",
        "#RF\n",
        "rf = RandomForestClassifier(n_estimators=300, random_state=42).fit(X_train, y_train)\n",
        "predicted = rf.predict(X_test)\n",
        "print('RF', np.mean( predicted == y_test ))\n",
        "\n",
        "#KNN\n",
        "knn = KNeighborsClassifier().fit(X_train, y_train)  #k=5\n",
        "predicted = knn.predict(X_test)\n",
        "print('KNN', np.mean( predicted == y_test ))\n",
        "\n",
        "#SVM\n",
        "svm = SVC().fit(X_train, y_train)\n",
        "predicted = svm.predict(X_test)\n",
        "print('SVM', np.mean( predicted == y_test ))\n",
        "\n",
        "#ANN\n",
        "mlp = MLPClassifier(hidden_layer_sizes=(24,12,6)).fit(X_train,y_train)\n",
        "predictions = mlp.predict(X_test)\n",
        "print('ANN',np.mean( predictions == y_test ))"
      ],
      "metadata": {
        "colab": {
          "base_uri": "https://localhost:8080/"
        },
        "id": "Ye5TDh89C_Wx",
        "outputId": "cc715adc-0fb4-4d71-fdba-fd3d4a4cbcfe"
      },
      "execution_count": null,
      "outputs": [
        {
          "output_type": "stream",
          "name": "stdout",
          "text": [
            "NB 0.9320594479830149\n",
            "DT 0.6093418259023354\n",
            "RF 0.9299363057324841\n",
            "KNN 0.9320594479830149\n",
            "SVM 0.9341825902335457\n",
            "ANN 0.9341825902335457\n"
          ]
        }
      ]
    },
    {
      "cell_type": "markdown",
      "source": [
        "- tensorflow"
      ],
      "metadata": {
        "id": "LwqTzpSDC_fy"
      }
    },
    {
      "cell_type": "code",
      "source": [
        "#DNN\n",
        "from tensorflow.keras.utils import to_categorical\n",
        "y_train = to_categorical(y_train)\n",
        "y_test = to_categorical(y_test)\n",
        "\n",
        "#모형 구성\n",
        "from tensorflow.keras.models import Sequential\n",
        "from tensorflow.keras.layers import Dense\n",
        "model = Sequential()\n",
        "model.add(Dense(24, activation = 'relu', input_shape = (48, ) ) ) \n",
        "model.add(Dense(12, activation = 'relu' ) ) \n",
        "model.add(Dense(6, activation = 'relu' ) )\n",
        "model.add(Dense(2, activation = 'softmax'))  # y변수의 두 범주에 대응\n",
        "\n",
        "model.compile(optimizer = 'adam', loss = 'categorical_crossentropy', metrics = ['acc'])# 모형 컴파일\n",
        "\n",
        "# 학습\n",
        "history = model.fit(X_train, y_train, epochs = 20, batch_size = 100)\n",
        "history.history.keys()\n",
        "\n",
        "# 모형 평가-train, test\n",
        "model.evaluate(X_test, y_test)\n",
        "\n",
        "results = model.predict(X_test)\n",
        "print(results.shape)\n",
        "\n",
        "#confusion matrix: skleanr.metrics의 기능\n",
        "from sklearn.metrics import classification_report, confusion_matrix\n",
        "print('\\n', classification_report(np.argmax(y_test, axis = -1), np.argmax(results, axis = -1)))"
      ],
      "metadata": {
        "id": "dv3b75s5C_lm",
        "colab": {
          "base_uri": "https://localhost:8080/"
        },
        "outputId": "91cad266-9e05-40e9-88a0-e2f10dbc0258"
      },
      "execution_count": 43,
      "outputs": [
        {
          "output_type": "stream",
          "name": "stdout",
          "text": [
            "Epoch 1/20\n",
            "11/11 [==============================] - 0s 3ms/step - loss: 0.3182 - acc: 0.9334\n",
            "Epoch 2/20\n",
            "11/11 [==============================] - 0s 3ms/step - loss: 0.2552 - acc: 0.9334\n",
            "Epoch 3/20\n",
            "11/11 [==============================] - 0s 3ms/step - loss: 0.2492 - acc: 0.9334\n",
            "Epoch 4/20\n",
            "11/11 [==============================] - 0s 3ms/step - loss: 0.2461 - acc: 0.9334\n",
            "Epoch 5/20\n",
            "11/11 [==============================] - 0s 3ms/step - loss: 0.2467 - acc: 0.9334\n",
            "Epoch 6/20\n",
            "11/11 [==============================] - 0s 4ms/step - loss: 0.2464 - acc: 0.9334\n",
            "Epoch 7/20\n",
            "11/11 [==============================] - 0s 3ms/step - loss: 0.2458 - acc: 0.9334\n",
            "Epoch 8/20\n",
            "11/11 [==============================] - 0s 3ms/step - loss: 0.2452 - acc: 0.9334\n",
            "Epoch 9/20\n",
            "11/11 [==============================] - 0s 3ms/step - loss: 0.2451 - acc: 0.9334\n",
            "Epoch 10/20\n",
            "11/11 [==============================] - 0s 3ms/step - loss: 0.2444 - acc: 0.9334\n",
            "Epoch 11/20\n",
            "11/11 [==============================] - 0s 3ms/step - loss: 0.2441 - acc: 0.9334\n",
            "Epoch 12/20\n",
            "11/11 [==============================] - 0s 3ms/step - loss: 0.2445 - acc: 0.9334\n",
            "Epoch 13/20\n",
            "11/11 [==============================] - 0s 3ms/step - loss: 0.2435 - acc: 0.9334\n",
            "Epoch 14/20\n",
            "11/11 [==============================] - 0s 3ms/step - loss: 0.2442 - acc: 0.9334\n",
            "Epoch 15/20\n",
            "11/11 [==============================] - 0s 3ms/step - loss: 0.2432 - acc: 0.9334\n",
            "Epoch 16/20\n",
            "11/11 [==============================] - 0s 3ms/step - loss: 0.2426 - acc: 0.9334\n",
            "Epoch 17/20\n",
            "11/11 [==============================] - 0s 3ms/step - loss: 0.2427 - acc: 0.9334\n",
            "Epoch 18/20\n",
            "11/11 [==============================] - 0s 2ms/step - loss: 0.2422 - acc: 0.9334\n",
            "Epoch 19/20\n",
            "11/11 [==============================] - 0s 3ms/step - loss: 0.2422 - acc: 0.9334\n",
            "Epoch 20/20\n",
            "11/11 [==============================] - 0s 2ms/step - loss: 0.2420 - acc: 0.9334\n",
            "15/15 [==============================] - 0s 2ms/step - loss: 0.2455 - acc: 0.9342\n",
            "(471, 2)\n",
            "\n",
            "               precision    recall  f1-score   support\n",
            "\n",
            "           0       0.93      1.00      0.97       440\n",
            "           1       0.00      0.00      0.00        31\n",
            "\n",
            "    accuracy                           0.93       471\n",
            "   macro avg       0.47      0.50      0.48       471\n",
            "weighted avg       0.87      0.93      0.90       471\n",
            "\n"
          ]
        },
        {
          "output_type": "stream",
          "name": "stderr",
          "text": [
            "/usr/local/lib/python3.7/dist-packages/sklearn/metrics/_classification.py:1318: UndefinedMetricWarning: Precision and F-score are ill-defined and being set to 0.0 in labels with no predicted samples. Use `zero_division` parameter to control this behavior.\n",
            "  _warn_prf(average, modifier, msg_start, len(result))\n",
            "/usr/local/lib/python3.7/dist-packages/sklearn/metrics/_classification.py:1318: UndefinedMetricWarning: Precision and F-score are ill-defined and being set to 0.0 in labels with no predicted samples. Use `zero_division` parameter to control this behavior.\n",
            "  _warn_prf(average, modifier, msg_start, len(result))\n",
            "/usr/local/lib/python3.7/dist-packages/sklearn/metrics/_classification.py:1318: UndefinedMetricWarning: Precision and F-score are ill-defined and being set to 0.0 in labels with no predicted samples. Use `zero_division` parameter to control this behavior.\n",
            "  _warn_prf(average, modifier, msg_start, len(result))\n"
          ]
        }
      ]
    },
    {
      "cell_type": "markdown",
      "source": [
        "# 연습3: DNN 활용"
      ],
      "metadata": {
        "id": "wIfGaPlxgxHt"
      }
    },
    {
      "cell_type": "markdown",
      "source": [
        "- sp500_tm.csv 를 읽으셔서\n",
        "- train, test 파티셔닝 8:2 / standard scaling 하셔서\n",
        "- y는 OHE 적용하세요\n",
        "- 8-4-2 ANN를 만들어보세요 -> 변경\n",
        "- relu, relu, softmax\n",
        "- epoch 20으로 지정하세요.\n",
        "- validation_split없이 실행하세요"
      ],
      "metadata": {
        "id": "VmiCalJtGW87"
      }
    },
    {
      "cell_type": "code",
      "source": [
        "import pandas as pd\n",
        "csv = pd.read_csv(\"sp500_tm.csv\")\n",
        "from sklearn.model_selection import train_test_split\n",
        "X_train, X_test, y_train, y_test = train_test_split( csv.iloc[ :, 0:3], csv.Direction, \n",
        "                                                    test_size=0.2)\n",
        "from sklearn.preprocessing import StandardScaler\n",
        "scaler = StandardScaler()\n",
        "X_train = scaler.fit_transform( X_train)\n",
        "X_test = scaler.fit_transform( X_test)\n",
        "y_train = to_categorical( y_train )\n",
        "y_test = to_categorical( y_test )\n",
        "model = Sequential()\n",
        "model.add( Dense( 6, activation=\"relu\", input_shape=(3,)) )\n",
        "model.add( Dense( 3, activation=\"relu\") )\n",
        "model.add( Dense( 2,  activation=\"softmax\"))\n",
        "model.compile( optimizer='adam', loss='categorical_crossentropy', metrics=['acc'])\n",
        "model.fit( X_train, y_train, epochs=20)"
      ],
      "metadata": {
        "id": "fFc-izPZILt3",
        "colab": {
          "base_uri": "https://localhost:8080/"
        },
        "outputId": "68120ba0-d26c-49ba-ed4f-13224b69c1c9"
      },
      "execution_count": 52,
      "outputs": [
        {
          "output_type": "stream",
          "name": "stdout",
          "text": [
            "Epoch 1/20\n",
            "3/3 [==============================] - 0s 5ms/step - loss: 0.7034 - acc: 0.5625\n",
            "Epoch 2/20\n",
            "3/3 [==============================] - 0s 5ms/step - loss: 0.7013 - acc: 0.5750\n",
            "Epoch 3/20\n",
            "3/3 [==============================] - 0s 4ms/step - loss: 0.6998 - acc: 0.5750\n",
            "Epoch 4/20\n",
            "3/3 [==============================] - 0s 5ms/step - loss: 0.6982 - acc: 0.5750\n",
            "Epoch 5/20\n",
            "3/3 [==============================] - 0s 5ms/step - loss: 0.6969 - acc: 0.5750\n",
            "Epoch 6/20\n",
            "3/3 [==============================] - 0s 5ms/step - loss: 0.6955 - acc: 0.5625\n",
            "Epoch 7/20\n",
            "3/3 [==============================] - 0s 4ms/step - loss: 0.6941 - acc: 0.5750\n",
            "Epoch 8/20\n",
            "3/3 [==============================] - 0s 4ms/step - loss: 0.6934 - acc: 0.5750\n",
            "Epoch 9/20\n",
            "3/3 [==============================] - 0s 4ms/step - loss: 0.6917 - acc: 0.5750\n",
            "Epoch 10/20\n",
            "3/3 [==============================] - 0s 4ms/step - loss: 0.6906 - acc: 0.5750\n",
            "Epoch 11/20\n",
            "3/3 [==============================] - 0s 4ms/step - loss: 0.6898 - acc: 0.5750\n",
            "Epoch 12/20\n",
            "3/3 [==============================] - 0s 4ms/step - loss: 0.6888 - acc: 0.5750\n",
            "Epoch 13/20\n",
            "3/3 [==============================] - 0s 4ms/step - loss: 0.6875 - acc: 0.5625\n",
            "Epoch 14/20\n",
            "3/3 [==============================] - 0s 4ms/step - loss: 0.6865 - acc: 0.5625\n",
            "Epoch 15/20\n",
            "3/3 [==============================] - 0s 5ms/step - loss: 0.6858 - acc: 0.5625\n",
            "Epoch 16/20\n",
            "3/3 [==============================] - 0s 5ms/step - loss: 0.6848 - acc: 0.5625\n",
            "Epoch 17/20\n",
            "3/3 [==============================] - 0s 4ms/step - loss: 0.6842 - acc: 0.5625\n",
            "Epoch 18/20\n",
            "3/3 [==============================] - 0s 4ms/step - loss: 0.6832 - acc: 0.5625\n",
            "Epoch 19/20\n",
            "3/3 [==============================] - 0s 6ms/step - loss: 0.6826 - acc: 0.5625\n",
            "Epoch 20/20\n",
            "3/3 [==============================] - 0s 5ms/step - loss: 0.6819 - acc: 0.5625\n"
          ]
        },
        {
          "output_type": "execute_result",
          "data": {
            "text/plain": [
              "<keras.callbacks.History at 0x7fb795c3d5d0>"
            ]
          },
          "metadata": {},
          "execution_count": 52
        }
      ]
    },
    {
      "cell_type": "code",
      "source": [
        "#분류 보고서\n",
        "results = model.predict(X_test)\n",
        "print('\\n', classification_report(np.argmax(y_test, axis = -1), np.argmax(results, axis = -1)))\n"
      ],
      "metadata": {
        "colab": {
          "base_uri": "https://localhost:8080/"
        },
        "id": "lCE-CzOlJGMd",
        "outputId": "59db4a9c-edfc-4f81-8c17-ad2d8c3e3b93"
      },
      "execution_count": 53,
      "outputs": [
        {
          "output_type": "stream",
          "name": "stdout",
          "text": [
            "\n",
            "               precision    recall  f1-score   support\n",
            "\n",
            "           0       0.62      0.67      0.64        12\n",
            "           1       0.43      0.38      0.40         8\n",
            "\n",
            "    accuracy                           0.55        20\n",
            "   macro avg       0.52      0.52      0.52        20\n",
            "weighted avg       0.54      0.55      0.54        20\n",
            "\n"
          ]
        }
      ]
    },
    {
      "cell_type": "markdown",
      "source": [
        "# 연습4: MNIST"
      ],
      "metadata": {
        "id": "-oF7PFo5CkUG"
      }
    },
    {
      "cell_type": "code",
      "source": [
        "(x_train, y_train), (x_test, y_test) = tf.keras.datasets.mnist.load_data()\n",
        "print(x_train.shape, y_train.shape,x_test.shape,y_test.shape)\n",
        "x_train.reshape(60000, 784).shape"
      ],
      "metadata": {
        "colab": {
          "base_uri": "https://localhost:8080/"
        },
        "id": "gMdbSz1l6jmg",
        "outputId": "2b61db8a-2a24-4e4d-e181-7e11d8ba1fcb"
      },
      "execution_count": 54,
      "outputs": [
        {
          "output_type": "stream",
          "name": "stdout",
          "text": [
            "Downloading data from https://storage.googleapis.com/tensorflow/tf-keras-datasets/mnist.npz\n",
            "11493376/11490434 [==============================] - 0s 0us/step\n",
            "11501568/11490434 [==============================] - 0s 0us/step\n",
            "(60000, 28, 28) (60000,) (10000, 28, 28) (10000,)\n"
          ]
        },
        {
          "output_type": "execute_result",
          "data": {
            "text/plain": [
              "(60000, 784)"
            ]
          },
          "metadata": {},
          "execution_count": 54
        }
      ]
    },
    {
      "cell_type": "code",
      "source": [
        "\n",
        "#random하게 5개 이미지 확인\n",
        "sample_size = 2 \n",
        "random_idx = np.random.randint(60000, size = sample_size)\n",
        "\n",
        "for idx in random_idx:\n",
        "  img = x_train[idx, :]\n",
        "  label = y_train[idx]\n",
        "  plt.figure()\n",
        "  plt.imshow(img)\n",
        "  plt.title('%d-th, label: %d' %(idx, label))"
      ],
      "metadata": {
        "colab": {
          "base_uri": "https://localhost:8080/",
          "height": 545
        },
        "id": "9LURpkBw7yB1",
        "outputId": "fd3ea193-0af5-4a4a-edf8-617068069d60"
      },
      "execution_count": 55,
      "outputs": [
        {
          "output_type": "display_data",
          "data": {
            "text/plain": [
              "<Figure size 432x288 with 1 Axes>"
            ],
            "image/png": "[encoded data removed]"
          },
          "metadata": {
            "needs_background": "light"
          }
        },
        {
          "output_type": "display_data",
          "data": {
            "text/plain": [
              "<Figure size 432x288 with 1 Axes>"
            ],
            "image/png": "[encoded data removed]"
          },
          "metadata": {
            "needs_background": "light"
          }
        }
      ]
    },
    {
      "cell_type": "code",
      "source": [
        "# 파티셔닝: 7:3\n",
        "from sklearn.model_selection import train_test_split\n",
        "x_train,x_val,y_train,y_val = train_test_split(x_train,y_train, test_size = 0.3, random_state =1234) \n",
        "\n",
        "print(x_train.shape, y_train.shape)\n",
        "print(x_val.shape, y_val.shape)\n",
        "\n",
        "num_x_train = x_train.shape[0]\n",
        "num_x_val = x_val.shape[0]\n",
        "num_x_test = x_test.shape[0]"
      ],
      "metadata": {
        "colab": {
          "base_uri": "https://localhost:8080/"
        },
        "id": "fSJyMy7N80tD",
        "outputId": "11e26458-19aa-4e76-a421-3af21a53e1b0"
      },
      "execution_count": 56,
      "outputs": [
        {
          "output_type": "stream",
          "name": "stdout",
          "text": [
            "(42000, 28, 28) (42000,)\n",
            "(18000, 28, 28) (18000,)\n"
          ]
        }
      ]
    },
    {
      "cell_type": "code",
      "source": [
        "#min_max scaling / flattening\n",
        "x_train = (x_train.reshape((num_x_train, 28*28))) / 255\n",
        "x_val = (x_val.reshape((num_x_val, 28*28))) / 255\n",
        "x_test = (x_test.reshape((num_x_test, 28*28)))/ 255"
      ],
      "metadata": {
        "id": "NPNEiXz69S43"
      },
      "execution_count": 57,
      "outputs": []
    },
    {
      "cell_type": "code",
      "source": [
        "#Y: one hot encoding\n",
        "from tensorflow.keras.utils import to_categorical\n",
        "y_train = to_categorical(y_train)\n",
        "y_val = to_categorical(y_val)\n",
        "y_test = to_categorical(y_test)"
      ],
      "metadata": {
        "id": "mZTSBOh_9red"
      },
      "execution_count": 58,
      "outputs": []
    },
    {
      "cell_type": "code",
      "source": [
        "#모형 구성\n",
        "from tensorflow.keras.models import Sequential\n",
        "from tensorflow.keras.layers import Dense\n",
        "model = Sequential()\n",
        "# 은닉층1-입력:784, 출력 64를 표시\n",
        "model.add(Dense(64, activation = 'relu', input_shape = (784, ) ) )\n",
        "# 은닉층2-입력:32를 표시\n",
        "model.add(Dense(32, activation = 'relu')) #32개의 출력을 가지는 Dense층\n",
        "# 은닉층3-입력:10를 표시\n",
        "model.add(Dense(10, activation = 'softmax')) # 10개의 출력을 가지는 신경망\n",
        "\n",
        "# 모형 컴파일\n",
        "model.compile(optimizer = 'adam', loss = 'categorical_crossentropy', metrics = ['acc'])\n",
        "\n",
        "# 학습\n",
        "history = model.fit(x_train, y_train, epochs = 20,\n",
        "                    batch_size = 128, validation_data = (x_val,y_val))\n"
      ],
      "metadata": {
        "id": "VJEtBef4CkcV",
        "colab": {
          "base_uri": "https://localhost:8080/"
        },
        "outputId": "9d48f95d-445c-42e3-8daf-8a6a9300c196"
      },
      "execution_count": 59,
      "outputs": [
        {
          "output_type": "stream",
          "name": "stdout",
          "text": [
            "Epoch 1/20\n",
            "329/329 [==============================] - 2s 5ms/step - loss: 0.4868 - acc: 0.8632 - val_loss: 0.2577 - val_acc: 0.9267\n",
            "Epoch 2/20\n",
            "329/329 [==============================] - 1s 4ms/step - loss: 0.2091 - acc: 0.9400 - val_loss: 0.1923 - val_acc: 0.9425\n",
            "Epoch 3/20\n",
            "329/329 [==============================] - 1s 5ms/step - loss: 0.1597 - acc: 0.9546 - val_loss: 0.1720 - val_acc: 0.9497\n",
            "Epoch 4/20\n",
            "329/329 [==============================] - 1s 4ms/step - loss: 0.1302 - acc: 0.9628 - val_loss: 0.1576 - val_acc: 0.9527\n",
            "Epoch 5/20\n",
            "329/329 [==============================] - 1s 4ms/step - loss: 0.1102 - acc: 0.9676 - val_loss: 0.1346 - val_acc: 0.9602\n",
            "Epoch 6/20\n",
            "329/329 [==============================] - 1s 4ms/step - loss: 0.0933 - acc: 0.9722 - val_loss: 0.1286 - val_acc: 0.9622\n",
            "Epoch 7/20\n",
            "329/329 [==============================] - 1s 4ms/step - loss: 0.0814 - acc: 0.9767 - val_loss: 0.1212 - val_acc: 0.9646\n",
            "Epoch 8/20\n",
            "329/329 [==============================] - 1s 4ms/step - loss: 0.0720 - acc: 0.9787 - val_loss: 0.1169 - val_acc: 0.9649\n",
            "Epoch 9/20\n",
            "329/329 [==============================] - 1s 4ms/step - loss: 0.0615 - acc: 0.9818 - val_loss: 0.1181 - val_acc: 0.9638\n",
            "Epoch 10/20\n",
            "329/329 [==============================] - 1s 4ms/step - loss: 0.0547 - acc: 0.9835 - val_loss: 0.1090 - val_acc: 0.9674\n",
            "Epoch 11/20\n",
            "329/329 [==============================] - 1s 4ms/step - loss: 0.0489 - acc: 0.9856 - val_loss: 0.1092 - val_acc: 0.9683\n",
            "Epoch 12/20\n",
            "329/329 [==============================] - 1s 4ms/step - loss: 0.0426 - acc: 0.9875 - val_loss: 0.1069 - val_acc: 0.9679\n",
            "Epoch 13/20\n",
            "329/329 [==============================] - 1s 4ms/step - loss: 0.0403 - acc: 0.9876 - val_loss: 0.1072 - val_acc: 0.9685\n",
            "Epoch 14/20\n",
            "329/329 [==============================] - 1s 4ms/step - loss: 0.0346 - acc: 0.9894 - val_loss: 0.1112 - val_acc: 0.9691\n",
            "Epoch 15/20\n",
            "329/329 [==============================] - 1s 4ms/step - loss: 0.0303 - acc: 0.9913 - val_loss: 0.1077 - val_acc: 0.9701\n",
            "Epoch 16/20\n",
            "329/329 [==============================] - 1s 4ms/step - loss: 0.0261 - acc: 0.9928 - val_loss: 0.1094 - val_acc: 0.9721\n",
            "Epoch 17/20\n",
            "329/329 [==============================] - 1s 4ms/step - loss: 0.0238 - acc: 0.9937 - val_loss: 0.1124 - val_acc: 0.9698\n",
            "Epoch 18/20\n",
            "329/329 [==============================] - 1s 4ms/step - loss: 0.0210 - acc: 0.9945 - val_loss: 0.1082 - val_acc: 0.9706\n",
            "Epoch 19/20\n",
            "329/329 [==============================] - 1s 4ms/step - loss: 0.0185 - acc: 0.9951 - val_loss: 0.1124 - val_acc: 0.9706\n",
            "Epoch 20/20\n",
            "329/329 [==============================] - 1s 4ms/step - loss: 0.0170 - acc: 0.9950 - val_loss: 0.1160 - val_acc: 0.9708\n"
          ]
        }
      ]
    },
    {
      "cell_type": "code",
      "source": [
        "results = model.predict(x_test)\n",
        "confusion_matrix(np.argmax(y_test, axis = -1), np.argmax(results, axis = -1))\n",
        "print(classification_report(np.argmax(y_test, axis = -1), np.argmax(results, axis = -1)))"
      ],
      "metadata": {
        "colab": {
          "base_uri": "https://localhost:8080/"
        },
        "id": "3lzMX3VmAiGv",
        "outputId": "591c3794-08af-451b-f5ce-80b8e4cd14e2"
      },
      "execution_count": 63,
      "outputs": [
        {
          "output_type": "stream",
          "name": "stdout",
          "text": [
            "              precision    recall  f1-score   support\n",
            "\n",
            "           0       0.98      0.98      0.98       980\n",
            "           1       0.99      0.99      0.99      1135\n",
            "           2       0.97      0.96      0.96      1032\n",
            "           3       0.96      0.97      0.96      1010\n",
            "           4       0.98      0.96      0.97       982\n",
            "           5       0.97      0.95      0.96       892\n",
            "           6       0.97      0.97      0.97       958\n",
            "           7       0.97      0.97      0.97      1028\n",
            "           8       0.94      0.97      0.96       974\n",
            "           9       0.97      0.96      0.96      1009\n",
            "\n",
            "    accuracy                           0.97     10000\n",
            "   macro avg       0.97      0.97      0.97     10000\n",
            "weighted avg       0.97      0.97      0.97     10000\n",
            "\n"
          ]
        }
      ]
    },
    {
      "cell_type": "markdown",
      "source": [
        "- Confusion Matrix"
      ],
      "metadata": {
        "id": "X2Zo0Y8_Cnv8"
      }
    },
    {
      "cell_type": "code",
      "source": [
        "from sklearn.metrics import classification_report, confusion_matrix\n",
        "import matplotlib.pyplot as plt\n",
        "import seaborn as sns\n",
        "results = model.predict( X_test)\n",
        "#혼동행렬을 만듬.\n",
        "plt.figure(figsize = (7,7))\n",
        "cm = confusion_matrix(np.argmax(y_test, axis = -1), np.argmax(results, axis = -1))\n",
        "sns.heatmap(cm, annot = True, fmt = 'd')\n",
        "plt.xlabel('predicted')\n",
        "plt.ylabel('actual')\n",
        "plt.show() \n",
        "\n",
        "#분류 보고서\n",
        "print('\\n', classification_report(np.argmax(y_test, axis = -1), np.argmax(results, axis = -1)))\n",
        "\n",
        "\n"
      ],
      "metadata": {
        "colab": {
          "base_uri": "https://localhost:8080/",
          "height": 767
        },
        "id": "YfExEsdiCmw3",
        "outputId": "cbb15de3-191e-468a-cae4-abd694dfcbf1"
      },
      "execution_count": null,
      "outputs": [
        {
          "output_type": "display_data",
          "data": {
            "text/plain": [
              "<Figure size 504x504 with 2 Axes>"
            ],
            "image/png": "[encoded data removed]"
          },
          "metadata": {
            "needs_background": "light"
          }
        },
        {
          "output_type": "stream",
          "name": "stdout",
          "text": [
            "\n",
            "               precision    recall  f1-score   support\n",
            "\n",
            "           0       0.98      0.99      0.98       980\n",
            "           1       0.99      0.99      0.99      1135\n",
            "           2       0.98      0.96      0.97      1032\n",
            "           3       0.96      0.97      0.96      1010\n",
            "           4       0.98      0.96      0.97       982\n",
            "           5       0.97      0.97      0.97       892\n",
            "           6       0.97      0.97      0.97       958\n",
            "           7       0.97      0.97      0.97      1028\n",
            "           8       0.96      0.97      0.96       974\n",
            "           9       0.96      0.97      0.96      1009\n",
            "\n",
            "    accuracy                           0.97     10000\n",
            "   macro avg       0.97      0.97      0.97     10000\n",
            "weighted avg       0.97      0.97      0.97     10000\n",
            "\n"
          ]
        }
      ]
    }
  ]
}